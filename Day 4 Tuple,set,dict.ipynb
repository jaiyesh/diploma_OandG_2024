{
 "cells": [
  {
   "cell_type": "markdown",
   "metadata": {},
   "source": [
    "## Range: Generate data"
   ]
  },
  {
   "cell_type": "code",
   "execution_count": 1,
   "metadata": {},
   "outputs": [
    {
     "data": {
      "text/plain": [
       "range(0, 10)"
      ]
     },
     "execution_count": 1,
     "metadata": {},
     "output_type": "execute_result"
    }
   ],
   "source": [
    "range(10)"
   ]
  },
  {
   "cell_type": "code",
   "execution_count": 2,
   "metadata": {},
   "outputs": [
    {
     "data": {
      "text/plain": [
       "[0, 1, 2, 3, 4, 5, 6, 7, 8, 9]"
      ]
     },
     "execution_count": 2,
     "metadata": {},
     "output_type": "execute_result"
    }
   ],
   "source": [
    "list(range(10))"
   ]
  },
  {
   "cell_type": "code",
   "execution_count": 3,
   "metadata": {},
   "outputs": [
    {
     "data": {
      "text/plain": [
       "[1, 2, 3, 4, 5, 6, 7, 8, 9]"
      ]
     },
     "execution_count": 3,
     "metadata": {},
     "output_type": "execute_result"
    }
   ],
   "source": [
    "list(range(1,10))"
   ]
  },
  {
   "cell_type": "code",
   "execution_count": 4,
   "metadata": {},
   "outputs": [
    {
     "data": {
      "text/plain": [
       "[1, 3, 5, 7, 9]"
      ]
     },
     "execution_count": 4,
     "metadata": {},
     "output_type": "execute_result"
    }
   ],
   "source": [
    "list(range(1,10,2))"
   ]
  },
  {
   "cell_type": "code",
   "execution_count": 8,
   "metadata": {},
   "outputs": [
    {
     "data": {
      "text/plain": [
       "[20, 19, 18, 17, 16, 15, 14, 13, 12, 11, 10, 9, 8, 7, 6, 5, 4, 3, 2, 1, 0, -1]"
      ]
     },
     "execution_count": 8,
     "metadata": {},
     "output_type": "execute_result"
    }
   ],
   "source": [
    "list(range(20,-2,-1))"
   ]
  },
  {
   "cell_type": "code",
   "execution_count": 10,
   "metadata": {},
   "outputs": [
    {
     "data": {
      "text/plain": [
       "[2,\n",
       " 4,\n",
       " 6,\n",
       " 8,\n",
       " 10,\n",
       " 12,\n",
       " 14,\n",
       " 16,\n",
       " 18,\n",
       " 20,\n",
       " 22,\n",
       " 24,\n",
       " 26,\n",
       " 28,\n",
       " 30,\n",
       " 32,\n",
       " 34,\n",
       " 36,\n",
       " 38,\n",
       " 40,\n",
       " 42,\n",
       " 44,\n",
       " 46,\n",
       " 48,\n",
       " 50,\n",
       " 52,\n",
       " 54,\n",
       " 56,\n",
       " 58,\n",
       " 60,\n",
       " 62,\n",
       " 64,\n",
       " 66,\n",
       " 68,\n",
       " 70,\n",
       " 72,\n",
       " 74,\n",
       " 76,\n",
       " 78,\n",
       " 80,\n",
       " 82,\n",
       " 84,\n",
       " 86,\n",
       " 88,\n",
       " 90,\n",
       " 92,\n",
       " 94,\n",
       " 96,\n",
       " 98,\n",
       " 100]"
      ]
     },
     "execution_count": 10,
     "metadata": {},
     "output_type": "execute_result"
    }
   ],
   "source": [
    "## List of evennumbers starting from 2 to 100\n",
    "\n",
    "list(range(2,102,2))"
   ]
  },
  {
   "cell_type": "code",
   "execution_count": 12,
   "metadata": {},
   "outputs": [
    {
     "name": "stdout",
     "output_type": "stream",
     "text": [
      "Lower Bound: 10\n",
      "Upper Bound: 15\n",
      "Step Size: 2\n"
     ]
    },
    {
     "data": {
      "text/plain": [
       "[10, 12, 14]"
      ]
     },
     "execution_count": 12,
     "metadata": {},
     "output_type": "execute_result"
    }
   ],
   "source": [
    "## write a program that will take start,stop, step all from users, after that create  list \n",
    "\n",
    "\n",
    "a = int(input(\"Lower Bound: \"))\n",
    "b = int(input(\"Upper Bound: \"))\n",
    "c = int(input(\"Step Size: \"))\n",
    "\n",
    "list(range(a,b,c))"
   ]
  },
  {
   "cell_type": "markdown",
   "metadata": {},
   "source": [
    "## data structure: Tuples\n",
    "\n",
    "- (______)\n",
    "\n",
    "- int,floats,strings,list,tuple,bool\n",
    "\n",
    "- Immutable : Cannot change elements, sensitive information is stored in tuples"
   ]
  },
  {
   "cell_type": "code",
   "execution_count": 13,
   "metadata": {},
   "outputs": [],
   "source": [
    "oilprd = (5000,1000,4200,5600)"
   ]
  },
  {
   "cell_type": "code",
   "execution_count": 14,
   "metadata": {},
   "outputs": [],
   "source": [
    "perm = (23,45,54,\"permeability\")"
   ]
  },
  {
   "cell_type": "code",
   "execution_count": 15,
   "metadata": {},
   "outputs": [
    {
     "data": {
      "text/plain": [
       "(23, 45, 54, 'permeability')"
      ]
     },
     "execution_count": 15,
     "metadata": {},
     "output_type": "execute_result"
    }
   ],
   "source": [
    "perm "
   ]
  },
  {
   "cell_type": "code",
   "execution_count": 16,
   "metadata": {},
   "outputs": [
    {
     "data": {
      "text/plain": [
       "tuple"
      ]
     },
     "execution_count": 16,
     "metadata": {},
     "output_type": "execute_result"
    }
   ],
   "source": [
    "type(perm)"
   ]
  },
  {
   "cell_type": "code",
   "execution_count": null,
   "metadata": {},
   "outputs": [],
   "source": [
    "## Indexing\n"
   ]
  },
  {
   "cell_type": "code",
   "execution_count": 17,
   "metadata": {},
   "outputs": [
    {
     "data": {
      "text/plain": [
       "'permeability'"
      ]
     },
     "execution_count": 17,
     "metadata": {},
     "output_type": "execute_result"
    }
   ],
   "source": [
    "perm[3]"
   ]
  },
  {
   "cell_type": "code",
   "execution_count": 18,
   "metadata": {},
   "outputs": [
    {
     "data": {
      "text/plain": [
       "(5000, 1000, 4200, 5600)"
      ]
     },
     "execution_count": 18,
     "metadata": {},
     "output_type": "execute_result"
    }
   ],
   "source": [
    "oilprd"
   ]
  },
  {
   "cell_type": "code",
   "execution_count": 20,
   "metadata": {},
   "outputs": [
    {
     "ename": "TypeError",
     "evalue": "'tuple' object does not support item assignment",
     "output_type": "error",
     "traceback": [
      "\u001b[1;31m---------------------------------------------------------------------------\u001b[0m",
      "\u001b[1;31mTypeError\u001b[0m                                 Traceback (most recent call last)",
      "\u001b[1;32m<ipython-input-20-25156bd1e1ee>\u001b[0m in \u001b[0;36m<module>\u001b[1;34m\u001b[0m\n\u001b[1;32m----> 1\u001b[1;33m \u001b[0moilprd\u001b[0m\u001b[1;33m[\u001b[0m\u001b[1;36m1\u001b[0m\u001b[1;33m]\u001b[0m \u001b[1;33m=\u001b[0m \u001b[1;36m2000\u001b[0m\u001b[1;33m\u001b[0m\u001b[1;33m\u001b[0m\u001b[0m\n\u001b[0m",
      "\u001b[1;31mTypeError\u001b[0m: 'tuple' object does not support item assignment"
     ]
    }
   ],
   "source": [
    "oilprd[1] = 2000"
   ]
  },
  {
   "cell_type": "code",
   "execution_count": 21,
   "metadata": {},
   "outputs": [],
   "source": [
    "oilprd_list = list(oilprd)"
   ]
  },
  {
   "cell_type": "code",
   "execution_count": 23,
   "metadata": {},
   "outputs": [],
   "source": [
    "oilprd_list[1] = 2000"
   ]
  },
  {
   "cell_type": "code",
   "execution_count": 24,
   "metadata": {},
   "outputs": [],
   "source": [
    "oilprd = tuple(oilprd_list)"
   ]
  },
  {
   "cell_type": "code",
   "execution_count": 25,
   "metadata": {},
   "outputs": [
    {
     "data": {
      "text/plain": [
       "(5000, 2000, 4200, 5600)"
      ]
     },
     "execution_count": 25,
     "metadata": {},
     "output_type": "execute_result"
    }
   ],
   "source": [
    "oilprd"
   ]
  },
  {
   "cell_type": "code",
   "execution_count": 26,
   "metadata": {},
   "outputs": [],
   "source": [
    "oilprd_copy = oilprd"
   ]
  },
  {
   "cell_type": "code",
   "execution_count": 27,
   "metadata": {},
   "outputs": [
    {
     "data": {
      "text/plain": [
       "(5000, 2000, 4200, 5600)"
      ]
     },
     "execution_count": 27,
     "metadata": {},
     "output_type": "execute_result"
    }
   ],
   "source": [
    "oilprd_copy"
   ]
  },
  {
   "cell_type": "code",
   "execution_count": 36,
   "metadata": {},
   "outputs": [
    {
     "data": {
      "text/plain": [
       "2"
      ]
     },
     "execution_count": 36,
     "metadata": {},
     "output_type": "execute_result"
    }
   ],
   "source": [
    "oilprd.index(4200)"
   ]
  },
  {
   "cell_type": "code",
   "execution_count": 29,
   "metadata": {},
   "outputs": [
    {
     "data": {
      "text/plain": [
       "[5000, 2000, 4200, 5600]"
      ]
     },
     "execution_count": 29,
     "metadata": {},
     "output_type": "execute_result"
    }
   ],
   "source": [
    "oilprd_list"
   ]
  },
  {
   "cell_type": "code",
   "execution_count": 37,
   "metadata": {},
   "outputs": [],
   "source": [
    "a = (45,67,0.5,[98,'k','hj'],(89,67,56))"
   ]
  },
  {
   "cell_type": "code",
   "execution_count": 38,
   "metadata": {},
   "outputs": [
    {
     "data": {
      "text/plain": [
       "(45, 67, 0.5, [98, 'k', 'hj'], (89, 67, 56))"
      ]
     },
     "execution_count": 38,
     "metadata": {},
     "output_type": "execute_result"
    }
   ],
   "source": [
    "a "
   ]
  },
  {
   "cell_type": "code",
   "execution_count": 39,
   "metadata": {},
   "outputs": [
    {
     "data": {
      "text/plain": [
       "[98, 'k', 'hj']"
      ]
     },
     "execution_count": 39,
     "metadata": {},
     "output_type": "execute_result"
    }
   ],
   "source": [
    "a[3]"
   ]
  },
  {
   "cell_type": "code",
   "execution_count": 41,
   "metadata": {},
   "outputs": [],
   "source": [
    "a[3][1] = \"ghfgh\""
   ]
  },
  {
   "cell_type": "code",
   "execution_count": 42,
   "metadata": {},
   "outputs": [
    {
     "data": {
      "text/plain": [
       "(45, 67, 0.5, [98, 'ghfgh', 'hj'], (89, 67, 56))"
      ]
     },
     "execution_count": 42,
     "metadata": {},
     "output_type": "execute_result"
    }
   ],
   "source": [
    "a"
   ]
  },
  {
   "cell_type": "code",
   "execution_count": 46,
   "metadata": {},
   "outputs": [],
   "source": [
    "a[3].append(45)"
   ]
  },
  {
   "cell_type": "code",
   "execution_count": 47,
   "metadata": {},
   "outputs": [
    {
     "data": {
      "text/plain": [
       "(45, 67, 0.5, [98, 'ghfgh', 'hj', 45], (89, 67, 56))"
      ]
     },
     "execution_count": 47,
     "metadata": {},
     "output_type": "execute_result"
    }
   ],
   "source": [
    "a"
   ]
  },
  {
   "cell_type": "markdown",
   "metadata": {},
   "source": [
    "## Sets= unordered collection of data\n",
    "\n",
    "- No Duplication: eliminates duplication of data\n",
    "\n",
    "- Unique data\n",
    "\n",
    "- Curly brackets: {----}\n",
    "\n",
    "- Unordered: Can't be indexed\n",
    "\n",
    "- Faster than list"
   ]
  },
  {
   "cell_type": "code",
   "execution_count": 50,
   "metadata": {},
   "outputs": [],
   "source": [
    "\n",
    "perm = {2,3,4,5,5,67,\"h\",43,34,2,2,2,2,43,43,43,67}"
   ]
  },
  {
   "cell_type": "code",
   "execution_count": 51,
   "metadata": {},
   "outputs": [
    {
     "data": {
      "text/plain": [
       "{2, 3, 34, 4, 43, 5, 67, 'h'}"
      ]
     },
     "execution_count": 51,
     "metadata": {},
     "output_type": "execute_result"
    }
   ],
   "source": [
    "perm"
   ]
  },
  {
   "cell_type": "code",
   "execution_count": 52,
   "metadata": {},
   "outputs": [
    {
     "ename": "TypeError",
     "evalue": "'set' object is not subscriptable",
     "output_type": "error",
     "traceback": [
      "\u001b[1;31m---------------------------------------------------------------------------\u001b[0m",
      "\u001b[1;31mTypeError\u001b[0m                                 Traceback (most recent call last)",
      "\u001b[1;32m<ipython-input-52-2d58cad884ac>\u001b[0m in \u001b[0;36m<module>\u001b[1;34m\u001b[0m\n\u001b[1;32m----> 1\u001b[1;33m \u001b[0mperm\u001b[0m\u001b[1;33m[\u001b[0m\u001b[1;36m0\u001b[0m\u001b[1;33m]\u001b[0m\u001b[1;33m\u001b[0m\u001b[1;33m\u001b[0m\u001b[0m\n\u001b[0m",
      "\u001b[1;31mTypeError\u001b[0m: 'set' object is not subscriptable"
     ]
    }
   ],
   "source": [
    "perm[0]"
   ]
  },
  {
   "cell_type": "code",
   "execution_count": 53,
   "metadata": {},
   "outputs": [],
   "source": [
    "s = {\"PERM\",\"perm\"}"
   ]
  },
  {
   "cell_type": "code",
   "execution_count": 54,
   "metadata": {},
   "outputs": [
    {
     "data": {
      "text/plain": [
       "{'PERM', 'perm'}"
      ]
     },
     "execution_count": 54,
     "metadata": {},
     "output_type": "execute_result"
    }
   ],
   "source": [
    "s"
   ]
  },
  {
   "cell_type": "code",
   "execution_count": 55,
   "metadata": {},
   "outputs": [
    {
     "ename": "TypeError",
     "evalue": "'set' object is not subscriptable",
     "output_type": "error",
     "traceback": [
      "\u001b[1;31m---------------------------------------------------------------------------\u001b[0m",
      "\u001b[1;31mTypeError\u001b[0m                                 Traceback (most recent call last)",
      "\u001b[1;32m<ipython-input-55-354d6d7fa2e4>\u001b[0m in \u001b[0;36m<module>\u001b[1;34m\u001b[0m\n\u001b[1;32m----> 1\u001b[1;33m \u001b[0ms\u001b[0m\u001b[1;33m[\u001b[0m\u001b[1;36m3\u001b[0m\u001b[1;33m]\u001b[0m\u001b[1;33m\u001b[0m\u001b[1;33m\u001b[0m\u001b[0m\n\u001b[0m",
      "\u001b[1;31mTypeError\u001b[0m: 'set' object is not subscriptable"
     ]
    }
   ],
   "source": [
    "s[3]"
   ]
  },
  {
   "cell_type": "code",
   "execution_count": 56,
   "metadata": {},
   "outputs": [],
   "source": [
    "a = {2,3,4}"
   ]
  },
  {
   "cell_type": "code",
   "execution_count": 57,
   "metadata": {},
   "outputs": [],
   "source": [
    "b = {5,6,7}"
   ]
  },
  {
   "cell_type": "code",
   "execution_count": 58,
   "metadata": {},
   "outputs": [
    {
     "data": {
      "text/plain": [
       "set()"
      ]
     },
     "execution_count": 58,
     "metadata": {},
     "output_type": "execute_result"
    }
   ],
   "source": [
    "a.intersection(b)"
   ]
  },
  {
   "cell_type": "code",
   "execution_count": 59,
   "metadata": {},
   "outputs": [
    {
     "data": {
      "text/plain": [
       "{2, 3, 4, 5, 6, 7}"
      ]
     },
     "execution_count": 59,
     "metadata": {},
     "output_type": "execute_result"
    }
   ],
   "source": [
    "a.union(b)"
   ]
  },
  {
   "cell_type": "code",
   "execution_count": 61,
   "metadata": {},
   "outputs": [],
   "source": [
    "a.add(6765)"
   ]
  },
  {
   "cell_type": "code",
   "execution_count": 62,
   "metadata": {},
   "outputs": [
    {
     "data": {
      "text/plain": [
       "{2, 3, 4, 6765}"
      ]
     },
     "execution_count": 62,
     "metadata": {},
     "output_type": "execute_result"
    }
   ],
   "source": [
    "a"
   ]
  },
  {
   "cell_type": "code",
   "execution_count": 63,
   "metadata": {},
   "outputs": [
    {
     "data": {
      "text/plain": [
       "2"
      ]
     },
     "execution_count": 63,
     "metadata": {},
     "output_type": "execute_result"
    }
   ],
   "source": [
    "a.pop()"
   ]
  },
  {
   "cell_type": "code",
   "execution_count": 64,
   "metadata": {},
   "outputs": [
    {
     "data": {
      "text/plain": [
       "{3, 4, 6765}"
      ]
     },
     "execution_count": 64,
     "metadata": {},
     "output_type": "execute_result"
    }
   ],
   "source": [
    "a"
   ]
  },
  {
   "cell_type": "code",
   "execution_count": 66,
   "metadata": {},
   "outputs": [],
   "source": [
    "data = \"\"\"The three laws of motion were first stated by Isaac Newton in his Philosophiæ Naturalis Principia Mathematica (Mathematical Principles of Natural Philosophy), originally published in 1687.[3] Newton used them to investigate and explain the motion of many physical objects and systems. In the time since Newton, new insights, especially around the concept of energy, built the field of classical mechanics on his foundations. Limitations to Newton's laws have also been discovered; new theories are necessary when objects move at very high speeds (special relativity), are very massive (general relativity), or are very small (quantum mechanics).\n",
    "Prerequisites\n",
    "\n",
    "Newton's laws are often stated in terms of point or particle masses, that is, bodies whose volume is negligible. This is a reasonable approximation for real bodies when the motion of internal parts can be neglected, and when the separation between bodies is much larger than the size of each. For instance, the Earth and the Sun can both be approximated as pointlike when considering the orbit of the former around the latter, but the Earth is not pointlike when considering activities on its surface.[note 1]\n",
    "\n",
    "The mathematical description of motion, or kinematics, is based on the idea of specifying positions using numerical coordinates. Movement is represented by these numbers changing over time: a body's trajectory is represented by a function that assigns to each value of a time variable the values of all the position coordinates. The simplest case is one-dimensional, that is, when a body is constrained to move only along a straight line. Its position can then be given by a single number, indicating where it is relative to some chosen reference point. For example, a body might be free to slide along a track that runs left to right, and so its location can be specified by its distance from a convenient zero point, or origin, with negative numbers indicating positions to the left and positive numbers indicating positions to the right. If the body's location as a function of time is s ( t ) {\\displaystyle s(t)}, then its average velocity over the time interval from t 0 {\\displaystyle t_{0}} to t 1 {\\displaystyle t_{1}} is[6] Δ s Δ t = s ( t 1 ) − s ( t 0 ) t 1 − t 0 . {\\displaystyle {\\frac {\\Delta s}{\\Delta t}}={\\frac {s(t_{1})-s(t_{0})}{t_{1}-t_{0}}}.}Here, the Greek letter Δ {\\displaystyle \\Delta } (delta) is used, per tradition, to mean \"change in\". A positive average velocity means that the position coordinate s {\\displaystyle s} increases over the interval in question, a negative average velocity indicates a net decrease over that interval, and an average velocity of zero means that the body ends the time interval in the same place as it began. Calculus gives the means to define an instantaneous velocity, a measure of a body's speed and direction of movement at a single moment of time, rather than over an interval. One notation for the instantaneous velocity is to replace Δ {\\displaystyle \\Delta } with the symbol d {\\displaystyle d}, for example, v = d s d t . {\\displaystyle v={\\frac {ds}{dt}}.}This denotes that the instantaneous velocity is the derivative of the position with respect to time. It can roughly be thought of as the ratio between an infinitesimally small change in position d s {\\displaystyle ds} to the infinitesimally small time interval d t {\\displaystyle dt} over which it occurs.[7] More carefully, the velocity and all other derivatives can be defined using the concept of a limit.[6] A function f ( t ) {\\displaystyle f(t)} has a limit of L {\\displaystyle L} at a given input value t 0 {\\displaystyle t_{0}} if the difference between f {\\displaystyle f} and L {\\displaystyle L} can be made arbitrarily small by choosing an input sufficiently close to t 0 {\\displaystyle t_{0}}. One writes, lim t → t 0 f ( t ) = L . {\\displaystyle \\lim _{t\\to t_{0}}f(t)=L.}Instantaneous velocity can be defined as the limit of the average velocity as the time interval shrinks to zero: d s d t = lim Δ t → 0 s ( t + Δ t ) − s ( t ) Δ t . {\\displaystyle {\\frac {ds}{dt}}=\\lim _{\\Delta t\\to 0}{\\frac {s(t+\\Delta t)-s(t)}{\\Delta t}}.} Acceleration is to velocity as velocity is to position: it is the derivative of the velocity with respect to time.[note 2] Acceleration can likewise be defined as a limit: a = d v d t = lim Δ t → 0 v ( t + Δ t ) − v ( t ) Δ t . {\\displaystyle a={\\frac {dv}{dt}}=\\lim _{\\Delta t\\to 0}{\\frac {v(t+\\Delta t)-v(t)}{\\Delta t}}.}Consequently, the acceleration is the second derivative of position,[7] often written d 2 s d t 2 {\\displaystyle {\\frac {d^{2}s}{dt^{2}}}}.\n",
    "\n",
    "Position, when thought of as a displacement from an origin point, is a vector: a quantity with both magnitude and direction.[9]: 1  Velocity and acceleration are vector quantities as well. The mathematical tools of vector algebra provide the means to describe motion in two, three or more dimensions. Vectors are often denoted with an arrow, as in s {\\displaystyle \\mathbf {s} }, or in bold typeface, such as s {\\displaystyle {\\bf {s}}}. Often, vectors are represented visually as arrows, with the direction of the vector being the direction of the arrow, and the magnitude of the vector indicated by the length of the arrow. Numerically, a vector can be represented as a list; for example, a body's velocity vector might be v = ( 3   m / s , 4   m / s ) {\\displaystyle \\mathbf {v} =(\\mathrm {3~m/s} ,\\mathrm {4~m/s} )}, indicating that it is moving at 3 metres per second along the horizontal axis and 4 metres per second along the vertical axis. The same motion described in a different coordinate system will be represented by different numbers, and vector algebra can be used to translate between these alternatives.[9]: 4 \n",
    "\n",
    "The study of mechanics is complicated by the fact that household words like energy are used with a technical meaning.[10] Moreover, words which are synonymous in everyday speech are not so in physics: force is not the same as power or pressure, for example, and mass has a different meaning than weight.[11][12]: 150  The physics concept of force makes quantitative the everyday idea of a push or a pull. Forces in Newtonian mechanics are often due to strings and ropes, friction, muscle effort, gravity, and so forth. Like displacement, velocity, and acceleration, force is a vector quantity.\n",
    "Laws\n",
    "First law\n",
    "see caption\n",
    "Artificial satellites move along curved orbits, rather than in straight lines, because of the Earth's gravity.\n",
    "\n",
    "Translated from Latin, Newton's first law reads,\n",
    "\n",
    "    Every object perseveres in its state of rest, or of uniform motion in a right line, except insofar as it is compelled to change that state by forces impressed thereon.[note 3]\n",
    "\n",
    "Newton's first law expresses the principle of inertia: the natural behavior of a body is to move in a straight line at constant speed. A body's motion preserves the status quo, but external forces can perturb this.\n",
    "\n",
    "The modern understanding of Newton's first law is that no inertial observer is privileged over any other. The concept of an inertial observer makes quantitative the everyday idea of feeling no effects of motion. For example, a person standing on the ground watching a train go past is an inertial observer. If the observer on the ground sees the train moving smoothly in a straight line at a constant speed, then a passenger sitting on the train will also be an inertial observer: the train passenger feels no motion. The principle expressed by Newton's first law is that there is no way to say which inertial observer is \"really\" moving and which is \"really\" standing still. One observer's state of rest is another observer's state of uniform motion in a straight line, and no experiment can deem either point of view to be correct or incorrect. There is no absolute standard of rest.[17][14]: 62–63 [18]: 7–9  Newton himself believed that absolute space and time existed, but that the only measures of space or time accessible to experiment are relative.[19]\n",
    "Second law\n",
    "\n",
    "    The change of motion of an object is proportional to the force impressed; and is made in the direction of the straight line in which the force is impressed.[14]: 114 \n",
    "\n",
    "By \"motion\", Newton meant the quantity now called momentum, which depends upon the amount of matter contained in a body, the speed at which that body is moving, and the direction in which it is moving.[20] In modern notation, the momentum of a body is the product of its mass and its velocity: p = m v , {\\displaystyle \\mathbf {p} =m\\mathbf {v} \\,,} where all three quantities can change over time. Newton's second law, in modern form, states that the time derivative of the momentum is the force: F = d p d t . {\\displaystyle \\mathbf {F} ={\\frac {d\\mathbf {p} }{dt}}\\,.} If the mass m {\\displaystyle m} does not change with time, then the derivative acts only upon the velocity, and so the force equals the product of the mass and the time derivative of the velocity, which is the acceleration:[21] F = m d v d t = m a . {\\displaystyle \\mathbf {F} =m{\\frac {d\\mathbf {v} }{dt}}=m\\mathbf {a} \\,.} As the acceleration is the second derivative of position with respect to time, this can also be written F = m d 2 s d t 2 . {\\displaystyle \\mathbf {F} =m{\\frac {d^{2}\\mathbf {s} }{dt^{2}}}.}\n",
    "A free body diagram for a block on an inclined plane, illustrating the normal force perpendicular to the plane (N), the downward force of gravity (mg), and a force f along the direction of the plane that could be applied, for example, by friction or a string\n",
    "\n",
    "The forces acting on a body add as vectors, and so the total force on a body depends upon both the magnitudes and the directions of the individual forces. When the net force on a body is equal to zero, then by Newton's second law, the body does not accelerate, and it is said to be in mechanical equilibrium. A state of mechanical equilibrium is stable if, when the position of the body is changed slightly, the body remains near that equilibrium. Otherwise, the equilibrium is unstable.\n",
    "\n",
    "A common visual representation of forces acting in concert is the free body diagram, which schematically portrays a body of interest and the forces applied to it by outside influences.[22] For example, a free body diagram of a block sitting upon an inclined plane can illustrate the combination of gravitational force, \"normal\" force, friction, and string tension.[note 4]\n",
    "\n",
    "Newton's second law is sometimes presented as a definition of force, i.e., a force is that which exists when an inertial observer sees a body accelerating. In order for this to be more than a tautology — acceleration implies force, force implies acceleration — some other statement about force must also be made. For example, an equation detailing the force might be specified, like Newton's law of universal gravitation. By inserting such an expression for F {\\displaystyle \\mathbf {F} } into Newton's second law, an equation with predictive power can be written.[note 5] Newton's second law has also been regarded as setting out a research program for physics, establishing that important goals of the subject are to identify the forces present in nature and to catalogue the constituents of matter.[14]: 134 [25]: 12-2 \n",
    "Third law\n",
    "\n",
    "    To every action, there is always opposed an equal reaction; or, the mutual actions of two bodies upon each other are always equal, and directed to contrary parts.[14]: 116 \n",
    "\n",
    "Rockets work by producing a strong reaction force downwards using rocket engines. This pushes the rocket upwards, without regard to the ground or the atmosphere.\n",
    "\n",
    "Overly brief paraphrases of the third law, like \"action equals reaction\" might have caused confusion among generations of students: the \"action\" and \"reaction\" apply to different bodies. For example, consider a book at rest on a table. The Earth's gravity pulls down upon the book. The \"reaction\" to that \"action\" is not the support force from the table holding up the book, but the gravitational pull of the book acting on the Earth.[note 6]\n",
    "\n",
    "Newton's third law relates to a more fundamental principle, the conservation of momentum. The latter remains true even in cases where Newton's statement does not, for instance when force fields as well as material bodies carry momentum, and when momentum is defined properly, in quantum mechanics as well.[note 7] In Newtonian mechanics, if two bodies have momenta p 1 {\\displaystyle \\mathbf {p} _{1}} and p 2 {\\displaystyle \\mathbf {p} _{2}} respectively, then the total momentum of the pair is p = p 1 + p 2 {\\displaystyle \\mathbf {p} =\\mathbf {p} _{1}+\\mathbf {p} _{2}}, and the rate of change of p {\\displaystyle \\mathbf {p} } is d p d t = d p 1 d t + d p 2 d t . {\\displaystyle {\\frac {d\\mathbf {p} }{dt}}={\\frac {d\\mathbf {p} _{1}}{dt}}+{\\frac {d\\mathbf {p} _{2}}{dt}}.} By Newton's second law, the first term is the total force upon the first body, and the second term is the total force upon the second body. If the two bodies are isolated from outside influences, the only force upon the first body can be that from the second, and vice versa. By Newton's third law, these forces have equal magnitude but opposite direction, so they cancel when added, and p {\\displaystyle \\mathbf {p} } is constant. Alternatively, if p {\\displaystyle \\mathbf {p} } is known to be constant, it follows that the forces have equal magnitude and opposite direction.\n",
    "Candidates for additional laws\n",
    "\n",
    "Various sources have proposed elevating other ideas used in classical mechanics to the status of Newton's laws. For example, in Newtonian mechanics, the total mass of a body made by bringing together two smaller bodies is the sum of their individual masses. Frank Wilczek has suggested calling attention to this assumption by designating it \"Newton's Zeroth Law\".[33] Another candidate for a \"zeroth law\" is the fact that at any instant, a body reacts to the forces applied to it at that instant.[34] Likewise, the idea that forces add like vectors (or in other words obey the superposition principle), and the idea that forces change the energy of a body, have both been described as a \"fourth law\".[note 8]\n",
    "Examples\n",
    "\n",
    "The study of the behavior of massive bodies using Newton's laws is known as Newtonian mechanics. Some example problems in Newtonian mechanics are particularly noteworthy for conceptual or historical reasons.\n",
    "Uniformly accelerated motion\n",
    "Main articles: Free fall and Projectile motion\n",
    "A bouncing ball photographed at 25 frames per second using a stroboscopic flash. In between bounces, the ball's height as a function of time is close to being a parabola, deviating from a parabolic arc because of air resistance, spin, and deformation into a non-spherical shape upon impact.\n",
    "\n",
    "If a body falls from rest near the surface of the Earth, then in the absence of air resistance, it will accelerate at a constant rate. This is known as free fall. The speed attained during free fall is proportional to the elapsed time, and the distance traveled is proportional to the square of the elapsed time.[39] Importantly, the acceleration is the same for all bodies, independently of their mass. This follows from combining Newton's second law of motion with his law of universal gravitation. The latter states that the magnitude of the gravitational force from the Earth upon the body is F = G M m r 2 , {\\displaystyle F={\\frac {GMm}{r^{2}}},} where m {\\displaystyle m} is the mass of the falling body, M {\\displaystyle M} is the mass of the Earth, G {\\displaystyle G} is Newton's constant, and r {\\displaystyle r} is the distance from the center of the Earth to the body's location, which is very nearly the radius of the Earth. Setting this equal to m a {\\displaystyle ma}, the body's mass m {\\displaystyle m} cancels from both sides of the equation, leaving an acceleration that depends upon G {\\displaystyle G}, M {\\displaystyle M}, and r {\\displaystyle r}, and r {\\displaystyle r} can be taken to be constant. This particular value of acceleration is typically denoted g {\\displaystyle g}: g = G M r 2 ≈ 9.8   m / s 2 . {\\displaystyle g={\\frac {GM}{r^{2}}}\\approx \\mathrm {9.8~m/s^{2}} .}\n",
    "\n",
    "If the body is not released from rest but instead launched upwards and/or horizontally with nonzero velocity, then free fall becomes projectile motion.[40] When air resistance can be neglected, projectiles follow parabola-shaped trajectories, because gravity affects the body's vertical motion and not its horizontal. At the peak of the projectile's trajectory, its vertical velocity is zero, but its acceleration is g {\\displaystyle g} downwards, as it is at all times. Setting the wrong vector equal to zero is a common confusion among physics students.[41]\n",
    "Uniform circular motion\n",
    "Main article: Circular motion\n",
    "Two objects in uniform circular motion, orbiting around the barycenter (center of mass of both objects)\n",
    "\n",
    "When a body is in uniform circular motion, the force on it changes the direction of its motion but not its speed. For a body moving in a circle of radius r {\\displaystyle r} at a constant speed v {\\displaystyle v}, its acceleration has a magnitude a = v 2 r {\\displaystyle a={\\frac {v^{2}}{r}}}and is directed toward the center of the circle.[note 9] The force required to sustain this acceleration, called the centripetal force, is therefore also directed toward the center of the circle and has magnitude m v 2 / r {\\displaystyle mv^{2}/r}. Many orbits, such as that of the Moon around the Earth, can be approximated by uniform circular motion. In such cases, the centripetal force is gravity, and by Newton's law of universal gravitation has magnitude G M m / r 2 {\\displaystyle GMm/r^{2}}, where M {\\displaystyle M} is the mass of the larger body being orbited. Therefore, the mass of a body can be calculated from observations of another body orbiting around it.[43]: 130 \n",
    "\n",
    "Newton's cannonball is a thought experiment that interpolates between projectile motion and uniform circular motion. A cannonball that is lobbed weakly off the edge of a tall cliff will hit the ground in the same amount of time as if it were dropped from rest, because the force of gravity only affects the cannonball's momentum in the downward direction, and its effect is not diminished by horizontal movement. If the cannonball is launched with a greater initial horizontal velocity, then it will travel farther before it hits the ground, but it will still hit the ground in the same amount of time. However, if the cannonball is launched with an even larger initial velocity, then the curvature of the Earth becomes significant: the ground itself will curve away from the falling cannonball. A very fast cannonball will fall away from the inertial straight-line trajectory at the same rate that the Earth curves away beneath it; in other words, it will be in orbit (imagining that it is not slowed by air resistance or obstacles).[44]\n",
    "Harmonic motion\n",
    "Main article: Harmonic oscillator\n",
    "An undamped spring–mass system undergoes simple harmonic motion.\n",
    "\n",
    "Consider a body of mass m {\\displaystyle m} able to move along the x {\\displaystyle x} axis, and suppose an equilibrium point exists at the position x = 0 {\\displaystyle x=0}. That is, at x = 0 {\\displaystyle x=0}, the net force upon the body is the zero vector, and by Newton's second law, the body will not accelerate. If the force upon the body is proportional to the displacement from the equilibrium point, and directed to the equilibrium point, then the body will perform simple harmonic motion. Writing the force as F = − k x {\\displaystyle F=-kx}, Newton's second law becomes m d 2 x d t 2 = − k x . {\\displaystyle m{\\frac {d^{2}x}{dt^{2}}}=-kx\\,.} This differential equation has the solution x ( t ) = A cos ⁡ ω t + B sin ⁡ ω t {\\displaystyle x(t)=A\\cos \\omega t+B\\sin \\omega t\\,} where the frequency ω {\\displaystyle \\omega } is equal to k / m {\\displaystyle {\\sqrt {k/m}}}, and the constants A {\\displaystyle A} and B {\\displaystyle B} can be calculated knowing, for example, the position and velocity the body has at a given time, like t = 0 {\\displaystyle t=0}.\n",
    "\n",
    "One reason that the harmonic oscillator is a conceptually important example is that it is good approximation for many systems near a stable mechanical equilibrium.[note 10] For example, a pendulum has a stable equilibrium in the vertical position: if motionless there, it will remain there, and if pushed slightly, it will swing back and forth. Neglecting air resistance and friction in the pivot, the force upon the pendulum is gravity, and Newton's second law becomes d 2 θ d t 2 = − g L sin ⁡ θ , {\\displaystyle {\\frac {d^{2}\\theta }{dt^{2}}}=-{\\frac {g}{L}}\\sin \\theta ,}where L {\\displaystyle L} is the length of the pendulum and θ {\\displaystyle \\theta } is its angle from the vertical. When the angle θ {\\displaystyle \\theta } is small, the sine of θ {\\displaystyle \\theta } is nearly equal to θ {\\displaystyle \\theta } (see Taylor series), and so this expression simplifies to the equation for a simple harmonic oscillator with frequency ω = g / L {\\displaystyle \\omega ={\\sqrt {g/L}}}.\n",
    "\n",
    "A harmonic oscillator can be damped, often by friction or viscous drag, in which case energy bleeds out of the oscillator and the amplitude of the oscillations decreases over time. Also, a harmonic oscillator can be driven by an applied force, which can lead to the phenomenon of resonance.[46]\n",
    "Objects with variable mass\n",
    "Main article: Variable-mass system\n",
    "Rockets, like the Space Shuttle Atlantis, propel matter in one direction to push the craft in the other. This means that the mass being pushed, the rocket and its remaining onboard fuel supply, is constantly changing.\n",
    "\n",
    "Newtonian physics treats matter as being neither created nor destroyed, though it may be rearranged. It can be the case that an object of interest gains or loses mass because matter is added to or removed from it. In such a situation, Newton's laws can be applied to the individual pieces of matter, keeping track of which pieces belong to the object of interest over time. For instance, if a rocket of mass M ( t ) {\\displaystyle M(t)}, moving at velocity v ( t ) {\\displaystyle \\mathbf {v} (t)}, ejects matter at a velocity u {\\displaystyle \\mathbf {u} } relative to the rocket, then F = M d v d t − u d M d t {\\displaystyle \\mathbf {F} =M{\\frac {d\\mathbf {v} }{dt}}-\\mathbf {u} {\\frac {dM}{dt}}\\,} where F {\\displaystyle \\mathbf {F} } is the net external force (e.g., a planet's gravitational pull).[23]: 139 \n",
    "Work and energy\n",
    "\n",
    "Physicists developed the concept of energy after Newton's time, but it has become an inseparable part of what is considered \"Newtonian\" physics. Energy can broadly be classified into kinetic, due to a body's motion, and potential, due to a body's position relative to others. Thermal energy, the energy carried by heat flow, is a type of kinetic energy not associated with the macroscopic motion of objects but instead with the movements of the atoms and molecules of which they are made. According to the work-energy theorem, when a force acts upon a body while that body moves along the line of the force, the force does work upon the body, and the amount of work done is equal to the change in the body's kinetic energy.[note 11] In many cases of interest, the net work done by a force when a body moves in a closed loop — starting at a point, moving along some trajectory, and returning to the initial point — is zero. If this is the case, then the force can be written in terms of the gradient of a function called a scalar potential:[42]: 303  F = − ∇ U . {\\displaystyle \\mathbf {F} =-\\mathbf {\\nabla } U\\,.} This is true for many forces including that of gravity, but not for friction; indeed, almost any problem in a mechanics textbook that does not involve friction can be expressed in this way.[45]: 19  The fact that the force can be written in this way can be understood from the conservation of energy. Without friction to dissipate a body's energy into heat, the body's energy will trade between potential and (non-thermal) kinetic forms while the total amount remains constant. Any gain of kinetic energy, which occurs when the net force on the body accelerates it to a higher speed, must be accompanied by a loss of potential energy. So, the net force upon the body is determined by the manner in which the potential energy decreases.\n",
    "Rigid-body motion and rotation\n",
    "\n",
    "A rigid body is an object whose size is too large to neglect and which maintains the same shape over time. In Newtonian mechanics, the motion of a rigid body is often understood by separating it into movement of the body's center of mass and movement around the center of mass.\n",
    "Center of mass\n",
    "Main article: Center of mass\n",
    "Fork-cork-toothpick object balanced on a pen on the toothpick part\n",
    "The total center of mass of the forks, cork, and toothpick is on top of the pen's tip.\n",
    "\n",
    "Significant aspects of the motion of an extended body can be understood by \n",
    "imagining the mass ofhat body concentrated to a single point, known as the ce\n",
    "nter of mass. The location of a body's center of mass depends upon how that body's m\n",
    "aterial is distributed. For a collection of pointlike objects with masses m 1 , … , m N {\\displaysty \"\"\""
   ]
  },
  {
   "cell_type": "code",
   "execution_count": 67,
   "metadata": {},
   "outputs": [
    {
     "data": {
      "text/plain": [
       "'The three laws of motion were first stated by Isaac Newton in his Philosophiæ Naturalis Principia Mathematica (Mathematical Principles of Natural Philosophy), originally published in 1687.[3] Newton used them to investigate and explain the motion of many physical objects and systems. In the time since Newton, new insights, especially around the concept of energy, built the field of classical mechanics on his foundations. Limitations to Newton\\'s laws have also been discovered; new theories are necessary when objects move at very high speeds (special relativity), are very massive (general relativity), or are very small (quantum mechanics).\\nPrerequisites\\n\\nNewton\\'s laws are often stated in terms of point or particle masses, that is, bodies whose volume is negligible. This is a reasonable approximation for real bodies when the motion of internal parts can be neglected, and when the separation between bodies is much larger than the size of each. For instance, the Earth and the Sun can both be approximated as pointlike when considering the orbit of the former around the latter, but the Earth is not pointlike when considering activities on its surface.[note 1]\\n\\nThe mathematical description of motion, or kinematics, is based on the idea of specifying positions using numerical coordinates. Movement is represented by these numbers changing over time: a body\\'s trajectory is represented by a function that assigns to each value of a time variable the values of all the position coordinates. The simplest case is one-dimensional, that is, when a body is constrained to move only along a straight line. Its position can then be given by a single number, indicating where it is relative to some chosen reference point. For example, a body might be free to slide along a track that runs left to right, and so its location can be specified by its distance from a convenient zero point, or origin, with negative numbers indicating positions to the left and positive numbers indicating positions to the right. If the body\\'s location as a function of time is s ( t ) {\\\\displaystyle s(t)}, then its average velocity over the time interval from t 0 {\\\\displaystyle t_{0}} to t 1 {\\\\displaystyle t_{1}} is[6] Δ s Δ t = s ( t 1 ) − s ( t 0 ) t 1 − t 0 . {\\\\displaystyle {\\x0crac {\\\\Delta s}{\\\\Delta t}}={\\x0crac {s(t_{1})-s(t_{0})}{t_{1}-t_{0}}}.}Here, the Greek letter Δ {\\\\displaystyle \\\\Delta } (delta) is used, per tradition, to mean \"change in\". A positive average velocity means that the position coordinate s {\\\\displaystyle s} increases over the interval in question, a negative average velocity indicates a net decrease over that interval, and an average velocity of zero means that the body ends the time interval in the same place as it began. Calculus gives the means to define an instantaneous velocity, a measure of a body\\'s speed and direction of movement at a single moment of time, rather than over an interval. One notation for the instantaneous velocity is to replace Δ {\\\\displaystyle \\\\Delta } with the symbol d {\\\\displaystyle d}, for example, v = d s d t . {\\\\displaystyle v={\\x0crac {ds}{dt}}.}This denotes that the instantaneous velocity is the derivative of the position with respect to time. It can roughly be thought of as the ratio between an infinitesimally small change in position d s {\\\\displaystyle ds} to the infinitesimally small time interval d t {\\\\displaystyle dt} over which it occurs.[7] More carefully, the velocity and all other derivatives can be defined using the concept of a limit.[6] A function f ( t ) {\\\\displaystyle f(t)} has a limit of L {\\\\displaystyle L} at a given input value t 0 {\\\\displaystyle t_{0}} if the difference between f {\\\\displaystyle f} and L {\\\\displaystyle L} can be made arbitrarily small by choosing an input sufficiently close to t 0 {\\\\displaystyle t_{0}}. One writes, lim t → t 0 f ( t ) = L . {\\\\displaystyle \\\\lim _{t\\to t_{0}}f(t)=L.}Instantaneous velocity can be defined as the limit of the average velocity as the time interval shrinks to zero: d s d t = lim Δ t → 0 s ( t + Δ t ) − s ( t ) Δ t . {\\\\displaystyle {\\x0crac {ds}{dt}}=\\\\lim _{\\\\Delta t\\to 0}{\\x0crac {s(t+\\\\Delta t)-s(t)}{\\\\Delta t}}.} Acceleration is to velocity as velocity is to position: it is the derivative of the velocity with respect to time.[note 2] Acceleration can likewise be defined as a limit: a = d v d t = lim Δ t → 0 v ( t + Δ t ) − v ( t ) Δ t . {\\\\displaystyle a={\\x0crac {dv}{dt}}=\\\\lim _{\\\\Delta t\\to 0}{\\x0crac {v(t+\\\\Delta t)-v(t)}{\\\\Delta t}}.}Consequently, the acceleration is the second derivative of position,[7] often written d 2 s d t 2 {\\\\displaystyle {\\x0crac {d^{2}s}{dt^{2}}}}.\\n\\nPosition, when thought of as a displacement from an origin point, is a vector: a quantity with both magnitude and direction.[9]:\\u200a1\\u200a Velocity and acceleration are vector quantities as well. The mathematical tools of vector algebra provide the means to describe motion in two, three or more dimensions. Vectors are often denoted with an arrow, as in s {\\\\displaystyle \\\\mathbf {s} }, or in bold typeface, such as s {\\\\displaystyle {\\x08f {s}}}. Often, vectors are represented visually as arrows, with the direction of the vector being the direction of the arrow, and the magnitude of the vector indicated by the length of the arrow. Numerically, a vector can be represented as a list; for example, a body\\'s velocity vector might be v = ( 3   m / s , 4   m / s ) {\\\\displaystyle \\\\mathbf {v} =(\\\\mathrm {3~m/s} ,\\\\mathrm {4~m/s} )}, indicating that it is moving at 3 metres per second along the horizontal axis and 4 metres per second along the vertical axis. The same motion described in a different coordinate system will be represented by different numbers, and vector algebra can be used to translate between these alternatives.[9]:\\u200a4\\u200a\\n\\nThe study of mechanics is complicated by the fact that household words like energy are used with a technical meaning.[10] Moreover, words which are synonymous in everyday speech are not so in physics: force is not the same as power or pressure, for example, and mass has a different meaning than weight.[11][12]:\\u200a150\\u200a The physics concept of force makes quantitative the everyday idea of a push or a pull. Forces in Newtonian mechanics are often due to strings and ropes, friction, muscle effort, gravity, and so forth. Like displacement, velocity, and acceleration, force is a vector quantity.\\nLaws\\nFirst law\\nsee caption\\nArtificial satellites move along curved orbits, rather than in straight lines, because of the Earth\\'s gravity.\\n\\nTranslated from Latin, Newton\\'s first law reads,\\n\\n    Every object perseveres in its state of rest, or of uniform motion in a right line, except insofar as it is compelled to change that state by forces impressed thereon.[note 3]\\n\\nNewton\\'s first law expresses the principle of inertia: the natural behavior of a body is to move in a straight line at constant speed. A body\\'s motion preserves the status quo, but external forces can perturb this.\\n\\nThe modern understanding of Newton\\'s first law is that no inertial observer is privileged over any other. The concept of an inertial observer makes quantitative the everyday idea of feeling no effects of motion. For example, a person standing on the ground watching a train go past is an inertial observer. If the observer on the ground sees the train moving smoothly in a straight line at a constant speed, then a passenger sitting on the train will also be an inertial observer: the train passenger feels no motion. The principle expressed by Newton\\'s first law is that there is no way to say which inertial observer is \"really\" moving and which is \"really\" standing still. One observer\\'s state of rest is another observer\\'s state of uniform motion in a straight line, and no experiment can deem either point of view to be correct or incorrect. There is no absolute standard of rest.[17][14]:\\u200a62–63\\u200a[18]:\\u200a7–9\\u200a Newton himself believed that absolute space and time existed, but that the only measures of space or time accessible to experiment are relative.[19]\\nSecond law\\n\\n    The change of motion of an object is proportional to the force impressed; and is made in the direction of the straight line in which the force is impressed.[14]:\\u200a114\\u200a\\n\\nBy \"motion\", Newton meant the quantity now called momentum, which depends upon the amount of matter contained in a body, the speed at which that body is moving, and the direction in which it is moving.[20] In modern notation, the momentum of a body is the product of its mass and its velocity: p = m v , {\\\\displaystyle \\\\mathbf {p} =m\\\\mathbf {v} \\\\,,} where all three quantities can change over time. Newton\\'s second law, in modern form, states that the time derivative of the momentum is the force: F = d p d t . {\\\\displaystyle \\\\mathbf {F} ={\\x0crac {d\\\\mathbf {p} }{dt}}\\\\,.} If the mass m {\\\\displaystyle m} does not change with time, then the derivative acts only upon the velocity, and so the force equals the product of the mass and the time derivative of the velocity, which is the acceleration:[21] F = m d v d t = m a . {\\\\displaystyle \\\\mathbf {F} =m{\\x0crac {d\\\\mathbf {v} }{dt}}=m\\\\mathbf {a} \\\\,.} As the acceleration is the second derivative of position with respect to time, this can also be written F = m d 2 s d t 2 . {\\\\displaystyle \\\\mathbf {F} =m{\\x0crac {d^{2}\\\\mathbf {s} }{dt^{2}}}.}\\nA free body diagram for a block on an inclined plane, illustrating the normal force perpendicular to the plane (N), the downward force of gravity (mg), and a force f along the direction of the plane that could be applied, for example, by friction or a string\\n\\nThe forces acting on a body add as vectors, and so the total force on a body depends upon both the magnitudes and the directions of the individual forces. When the net force on a body is equal to zero, then by Newton\\'s second law, the body does not accelerate, and it is said to be in mechanical equilibrium. A state of mechanical equilibrium is stable if, when the position of the body is changed slightly, the body remains near that equilibrium. Otherwise, the equilibrium is unstable.\\n\\nA common visual representation of forces acting in concert is the free body diagram, which schematically portrays a body of interest and the forces applied to it by outside influences.[22] For example, a free body diagram of a block sitting upon an inclined plane can illustrate the combination of gravitational force, \"normal\" force, friction, and string tension.[note 4]\\n\\nNewton\\'s second law is sometimes presented as a definition of force, i.e., a force is that which exists when an inertial observer sees a body accelerating. In order for this to be more than a tautology — acceleration implies force, force implies acceleration — some other statement about force must also be made. For example, an equation detailing the force might be specified, like Newton\\'s law of universal gravitation. By inserting such an expression for F {\\\\displaystyle \\\\mathbf {F} } into Newton\\'s second law, an equation with predictive power can be written.[note 5] Newton\\'s second law has also been regarded as setting out a research program for physics, establishing that important goals of the subject are to identify the forces present in nature and to catalogue the constituents of matter.[14]:\\u200a134\\u200a[25]:\\u200a12-2\\u200a\\nThird law\\n\\n    To every action, there is always opposed an equal reaction; or, the mutual actions of two bodies upon each other are always equal, and directed to contrary parts.[14]:\\u200a116\\u200a\\n\\nRockets work by producing a strong reaction force downwards using rocket engines. This pushes the rocket upwards, without regard to the ground or the atmosphere.\\n\\nOverly brief paraphrases of the third law, like \"action equals reaction\" might have caused confusion among generations of students: the \"action\" and \"reaction\" apply to different bodies. For example, consider a book at rest on a table. The Earth\\'s gravity pulls down upon the book. The \"reaction\" to that \"action\" is not the support force from the table holding up the book, but the gravitational pull of the book acting on the Earth.[note 6]\\n\\nNewton\\'s third law relates to a more fundamental principle, the conservation of momentum. The latter remains true even in cases where Newton\\'s statement does not, for instance when force fields as well as material bodies carry momentum, and when momentum is defined properly, in quantum mechanics as well.[note 7] In Newtonian mechanics, if two bodies have momenta p 1 {\\\\displaystyle \\\\mathbf {p} _{1}} and p 2 {\\\\displaystyle \\\\mathbf {p} _{2}} respectively, then the total momentum of the pair is p = p 1 + p 2 {\\\\displaystyle \\\\mathbf {p} =\\\\mathbf {p} _{1}+\\\\mathbf {p} _{2}}, and the rate of change of p {\\\\displaystyle \\\\mathbf {p} } is d p d t = d p 1 d t + d p 2 d t . {\\\\displaystyle {\\x0crac {d\\\\mathbf {p} }{dt}}={\\x0crac {d\\\\mathbf {p} _{1}}{dt}}+{\\x0crac {d\\\\mathbf {p} _{2}}{dt}}.} By Newton\\'s second law, the first term is the total force upon the first body, and the second term is the total force upon the second body. If the two bodies are isolated from outside influences, the only force upon the first body can be that from the second, and vice versa. By Newton\\'s third law, these forces have equal magnitude but opposite direction, so they cancel when added, and p {\\\\displaystyle \\\\mathbf {p} } is constant. Alternatively, if p {\\\\displaystyle \\\\mathbf {p} } is known to be constant, it follows that the forces have equal magnitude and opposite direction.\\nCandidates for additional laws\\n\\nVarious sources have proposed elevating other ideas used in classical mechanics to the status of Newton\\'s laws. For example, in Newtonian mechanics, the total mass of a body made by bringing together two smaller bodies is the sum of their individual masses. Frank Wilczek has suggested calling attention to this assumption by designating it \"Newton\\'s Zeroth Law\".[33] Another candidate for a \"zeroth law\" is the fact that at any instant, a body reacts to the forces applied to it at that instant.[34] Likewise, the idea that forces add like vectors (or in other words obey the superposition principle), and the idea that forces change the energy of a body, have both been described as a \"fourth law\".[note 8]\\nExamples\\n\\nThe study of the behavior of massive bodies using Newton\\'s laws is known as Newtonian mechanics. Some example problems in Newtonian mechanics are particularly noteworthy for conceptual or historical reasons.\\nUniformly accelerated motion\\nMain articles: Free fall and Projectile motion\\nA bouncing ball photographed at 25 frames per second using a stroboscopic flash. In between bounces, the ball\\'s height as a function of time is close to being a parabola, deviating from a parabolic arc because of air resistance, spin, and deformation into a non-spherical shape upon impact.\\n\\nIf a body falls from rest near the surface of the Earth, then in the absence of air resistance, it will accelerate at a constant rate. This is known as free fall. The speed attained during free fall is proportional to the elapsed time, and the distance traveled is proportional to the square of the elapsed time.[39] Importantly, the acceleration is the same for all bodies, independently of their mass. This follows from combining Newton\\'s second law of motion with his law of universal gravitation. The latter states that the magnitude of the gravitational force from the Earth upon the body is F = G M m r 2 , {\\\\displaystyle F={\\x0crac {GMm}{r^{2}}},} where m {\\\\displaystyle m} is the mass of the falling body, M {\\\\displaystyle M} is the mass of the Earth, G {\\\\displaystyle G} is Newton\\'s constant, and r {\\\\displaystyle r} is the distance from the center of the Earth to the body\\'s location, which is very nearly the radius of the Earth. Setting this equal to m a {\\\\displaystyle ma}, the body\\'s mass m {\\\\displaystyle m} cancels from both sides of the equation, leaving an acceleration that depends upon G {\\\\displaystyle G}, M {\\\\displaystyle M}, and r {\\\\displaystyle r}, and r {\\\\displaystyle r} can be taken to be constant. This particular value of acceleration is typically denoted g {\\\\displaystyle g}: g = G M r 2 ≈ 9.8   m / s 2 . {\\\\displaystyle g={\\x0crac {GM}{r^{2}}}\\x07pprox \\\\mathrm {9.8~m/s^{2}} .}\\n\\nIf the body is not released from rest but instead launched upwards and/or horizontally with nonzero velocity, then free fall becomes projectile motion.[40] When air resistance can be neglected, projectiles follow parabola-shaped trajectories, because gravity affects the body\\'s vertical motion and not its horizontal. At the peak of the projectile\\'s trajectory, its vertical velocity is zero, but its acceleration is g {\\\\displaystyle g} downwards, as it is at all times. Setting the wrong vector equal to zero is a common confusion among physics students.[41]\\nUniform circular motion\\nMain article: Circular motion\\nTwo objects in uniform circular motion, orbiting around the barycenter (center of mass of both objects)\\n\\nWhen a body is in uniform circular motion, the force on it changes the direction of its motion but not its speed. For a body moving in a circle of radius r {\\\\displaystyle r} at a constant speed v {\\\\displaystyle v}, its acceleration has a magnitude a = v 2 r {\\\\displaystyle a={\\x0crac {v^{2}}{r}}}and is directed toward the center of the circle.[note 9] The force required to sustain this acceleration, called the centripetal force, is therefore also directed toward the center of the circle and has magnitude m v 2 / r {\\\\displaystyle mv^{2}/r}. Many orbits, such as that of the Moon around the Earth, can be approximated by uniform circular motion. In such cases, the centripetal force is gravity, and by Newton\\'s law of universal gravitation has magnitude G M m / r 2 {\\\\displaystyle GMm/r^{2}}, where M {\\\\displaystyle M} is the mass of the larger body being orbited. Therefore, the mass of a body can be calculated from observations of another body orbiting around it.[43]:\\u200a130\\u200a\\n\\nNewton\\'s cannonball is a thought experiment that interpolates between projectile motion and uniform circular motion. A cannonball that is lobbed weakly off the edge of a tall cliff will hit the ground in the same amount of time as if it were dropped from rest, because the force of gravity only affects the cannonball\\'s momentum in the downward direction, and its effect is not diminished by horizontal movement. If the cannonball is launched with a greater initial horizontal velocity, then it will travel farther before it hits the ground, but it will still hit the ground in the same amount of time. However, if the cannonball is launched with an even larger initial velocity, then the curvature of the Earth becomes significant: the ground itself will curve away from the falling cannonball. A very fast cannonball will fall away from the inertial straight-line trajectory at the same rate that the Earth curves away beneath it; in other words, it will be in orbit (imagining that it is not slowed by air resistance or obstacles).[44]\\nHarmonic motion\\nMain article: Harmonic oscillator\\nAn undamped spring–mass system undergoes simple harmonic motion.\\n\\nConsider a body of mass m {\\\\displaystyle m} able to move along the x {\\\\displaystyle x} axis, and suppose an equilibrium point exists at the position x = 0 {\\\\displaystyle x=0}. That is, at x = 0 {\\\\displaystyle x=0}, the net force upon the body is the zero vector, and by Newton\\'s second law, the body will not accelerate. If the force upon the body is proportional to the displacement from the equilibrium point, and directed to the equilibrium point, then the body will perform simple harmonic motion. Writing the force as F = − k x {\\\\displaystyle F=-kx}, Newton\\'s second law becomes m d 2 x d t 2 = − k x . {\\\\displaystyle m{\\x0crac {d^{2}x}{dt^{2}}}=-kx\\\\,.} This differential equation has the solution x ( t ) = A cos \\u2061 ω t + B sin \\u2061 ω t {\\\\displaystyle x(t)=A\\\\cos \\\\omega t+B\\\\sin \\\\omega t\\\\,} where the frequency ω {\\\\displaystyle \\\\omega } is equal to k / m {\\\\displaystyle {\\\\sqrt {k/m}}}, and the constants A {\\\\displaystyle A} and B {\\\\displaystyle B} can be calculated knowing, for example, the position and velocity the body has at a given time, like t = 0 {\\\\displaystyle t=0}.\\n\\nOne reason that the harmonic oscillator is a conceptually important example is that it is good approximation for many systems near a stable mechanical equilibrium.[note 10] For example, a pendulum has a stable equilibrium in the vertical position: if motionless there, it will remain there, and if pushed slightly, it will swing back and forth. Neglecting air resistance and friction in the pivot, the force upon the pendulum is gravity, and Newton\\'s second law becomes d 2 θ d t 2 = − g L sin \\u2061 θ , {\\\\displaystyle {\\x0crac {d^{2}\\theta }{dt^{2}}}=-{\\x0crac {g}{L}}\\\\sin \\theta ,}where L {\\\\displaystyle L} is the length of the pendulum and θ {\\\\displaystyle \\theta } is its angle from the vertical. When the angle θ {\\\\displaystyle \\theta } is small, the sine of θ {\\\\displaystyle \\theta } is nearly equal to θ {\\\\displaystyle \\theta } (see Taylor series), and so this expression simplifies to the equation for a simple harmonic oscillator with frequency ω = g / L {\\\\displaystyle \\\\omega ={\\\\sqrt {g/L}}}.\\n\\nA harmonic oscillator can be damped, often by friction or viscous drag, in which case energy bleeds out of the oscillator and the amplitude of the oscillations decreases over time. Also, a harmonic oscillator can be driven by an applied force, which can lead to the phenomenon of resonance.[46]\\nObjects with variable mass\\nMain article: Variable-mass system\\nRockets, like the Space Shuttle Atlantis, propel matter in one direction to push the craft in the other. This means that the mass being pushed, the rocket and its remaining onboard fuel supply, is constantly changing.\\n\\nNewtonian physics treats matter as being neither created nor destroyed, though it may be rearranged. It can be the case that an object of interest gains or loses mass because matter is added to or removed from it. In such a situation, Newton\\'s laws can be applied to the individual pieces of matter, keeping track of which pieces belong to the object of interest over time. For instance, if a rocket of mass M ( t ) {\\\\displaystyle M(t)}, moving at velocity v ( t ) {\\\\displaystyle \\\\mathbf {v} (t)}, ejects matter at a velocity u {\\\\displaystyle \\\\mathbf {u} } relative to the rocket, then F = M d v d t − u d M d t {\\\\displaystyle \\\\mathbf {F} =M{\\x0crac {d\\\\mathbf {v} }{dt}}-\\\\mathbf {u} {\\x0crac {dM}{dt}}\\\\,} where F {\\\\displaystyle \\\\mathbf {F} } is the net external force (e.g., a planet\\'s gravitational pull).[23]:\\u200a139\\u200a\\nWork and energy\\n\\nPhysicists developed the concept of energy after Newton\\'s time, but it has become an inseparable part of what is considered \"Newtonian\" physics. Energy can broadly be classified into kinetic, due to a body\\'s motion, and potential, due to a body\\'s position relative to others. Thermal energy, the energy carried by heat flow, is a type of kinetic energy not associated with the macroscopic motion of objects but instead with the movements of the atoms and molecules of which they are made. According to the work-energy theorem, when a force acts upon a body while that body moves along the line of the force, the force does work upon the body, and the amount of work done is equal to the change in the body\\'s kinetic energy.[note 11] In many cases of interest, the net work done by a force when a body moves in a closed loop — starting at a point, moving along some trajectory, and returning to the initial point — is zero. If this is the case, then the force can be written in terms of the gradient of a function called a scalar potential:[42]:\\u200a303\\u200a F = − ∇ U . {\\\\displaystyle \\\\mathbf {F} =-\\\\mathbf {\\nabla } U\\\\,.} This is true for many forces including that of gravity, but not for friction; indeed, almost any problem in a mechanics textbook that does not involve friction can be expressed in this way.[45]:\\u200a19\\u200a The fact that the force can be written in this way can be understood from the conservation of energy. Without friction to dissipate a body\\'s energy into heat, the body\\'s energy will trade between potential and (non-thermal) kinetic forms while the total amount remains constant. Any gain of kinetic energy, which occurs when the net force on the body accelerates it to a higher speed, must be accompanied by a loss of potential energy. So, the net force upon the body is determined by the manner in which the potential energy decreases.\\nRigid-body motion and rotation\\n\\nA rigid body is an object whose size is too large to neglect and which maintains the same shape over time. In Newtonian mechanics, the motion of a rigid body is often understood by separating it into movement of the body\\'s center of mass and movement around the center of mass.\\nCenter of mass\\nMain article: Center of mass\\nFork-cork-toothpick object balanced on a pen on the toothpick part\\nThe total center of mass of the forks, cork, and toothpick is on top of the pen\\'s tip.\\n\\nSignificant aspects of the motion of an extended body can be understood by \\nimagining the mass ofhat body concentrated to a single point, known as the ce\\nnter of mass. The location of a body\\'s center of mass depends upon how that body\\'s m\\naterial is distributed. For a collection of pointlike objects with masses m 1 , … , m N {\\\\displaysty '"
      ]
     },
     "execution_count": 67,
     "metadata": {},
     "output_type": "execute_result"
    }
   ],
   "source": [
    "data"
   ]
  },
  {
   "cell_type": "code",
   "execution_count": 68,
   "metadata": {},
   "outputs": [
    {
     "data": {
      "text/plain": [
       "str"
      ]
     },
     "execution_count": 68,
     "metadata": {},
     "output_type": "execute_result"
    }
   ],
   "source": [
    "type(data)"
   ]
  },
  {
   "cell_type": "code",
   "execution_count": 75,
   "metadata": {},
   "outputs": [],
   "source": [
    "list_of_words = data.split(\"s\")"
   ]
  },
  {
   "cell_type": "code",
   "execution_count": 76,
   "metadata": {},
   "outputs": [
    {
     "data": {
      "text/plain": [
       "['The three law',\n",
       " ' of motion were fir',\n",
       " 't ',\n",
       " 'tated by I',\n",
       " 'aac Newton in hi',\n",
       " ' Philo',\n",
       " 'ophiæ Naturali',\n",
       " ' Principia Mathematica (Mathematical Principle',\n",
       " ' of Natural Philo',\n",
       " 'ophy), originally publi',\n",
       " 'hed in 1687.[3] Newton u',\n",
       " 'ed them to inve',\n",
       " 'tigate and explain the motion of many phy',\n",
       " 'ical object',\n",
       " ' and ',\n",
       " 'y',\n",
       " 'tem',\n",
       " '. In the time ',\n",
       " 'ince Newton, new in',\n",
       " 'ight',\n",
       " ', e',\n",
       " 'pecially around the concept of energy, built the field of cla',\n",
       " '',\n",
       " 'ical mechanic',\n",
       " ' on hi',\n",
       " ' foundation',\n",
       " '. Limitation',\n",
       " \" to Newton'\",\n",
       " ' law',\n",
       " ' have al',\n",
       " 'o been di',\n",
       " 'covered; new theorie',\n",
       " ' are nece',\n",
       " '',\n",
       " 'ary when object',\n",
       " ' move at very high ',\n",
       " 'peed',\n",
       " ' (',\n",
       " 'pecial relativity), are very ma',\n",
       " '',\n",
       " 'ive (general relativity), or are very ',\n",
       " 'mall (quantum mechanic',\n",
       " ').\\nPrerequi',\n",
       " 'ite',\n",
       " \"\\n\\nNewton'\",\n",
       " ' law',\n",
       " ' are often ',\n",
       " 'tated in term',\n",
       " ' of point or particle ma',\n",
       " '',\n",
       " 'e',\n",
       " ', that i',\n",
       " ', bodie',\n",
       " ' who',\n",
       " 'e volume i',\n",
       " ' negligible. Thi',\n",
       " ' i',\n",
       " ' a rea',\n",
       " 'onable approximation for real bodie',\n",
       " ' when the motion of internal part',\n",
       " ' can be neglected, and when the ',\n",
       " 'eparation between bodie',\n",
       " ' i',\n",
       " ' much larger than the ',\n",
       " 'ize of each. For in',\n",
       " 'tance, the Earth and the Sun can both be approximated a',\n",
       " ' pointlike when con',\n",
       " 'idering the orbit of the former around the latter, but the Earth i',\n",
       " ' not pointlike when con',\n",
       " 'idering activitie',\n",
       " ' on it',\n",
       " ' ',\n",
       " 'urface.[note 1]\\n\\nThe mathematical de',\n",
       " 'cription of motion, or kinematic',\n",
       " ', i',\n",
       " ' ba',\n",
       " 'ed on the idea of ',\n",
       " 'pecifying po',\n",
       " 'ition',\n",
       " ' u',\n",
       " 'ing numerical coordinate',\n",
       " '. Movement i',\n",
       " ' repre',\n",
       " 'ented by the',\n",
       " 'e number',\n",
       " \" changing over time: a body'\",\n",
       " ' trajectory i',\n",
       " ' repre',\n",
       " 'ented by a function that a',\n",
       " '',\n",
       " 'ign',\n",
       " ' to each value of a time variable the value',\n",
       " ' of all the po',\n",
       " 'ition coordinate',\n",
       " '. The ',\n",
       " 'imple',\n",
       " 't ca',\n",
       " 'e i',\n",
       " ' one-dimen',\n",
       " 'ional, that i',\n",
       " ', when a body i',\n",
       " ' con',\n",
       " 'trained to move only along a ',\n",
       " 'traight line. It',\n",
       " ' po',\n",
       " 'ition can then be given by a ',\n",
       " 'ingle number, indicating where it i',\n",
       " ' relative to ',\n",
       " 'ome cho',\n",
       " 'en reference point. For example, a body might be free to ',\n",
       " 'lide along a track that run',\n",
       " ' left to right, and ',\n",
       " 'o it',\n",
       " ' location can be ',\n",
       " 'pecified by it',\n",
       " ' di',\n",
       " 'tance from a convenient zero point, or origin, with negative number',\n",
       " ' indicating po',\n",
       " 'ition',\n",
       " ' to the left and po',\n",
       " 'itive number',\n",
       " ' indicating po',\n",
       " 'ition',\n",
       " \" to the right. If the body'\",\n",
       " ' location a',\n",
       " ' a function of time i',\n",
       " ' ',\n",
       " ' ( t ) {\\\\di',\n",
       " 'play',\n",
       " 'tyle ',\n",
       " '(t)}, then it',\n",
       " ' average velocity over the time interval from t 0 {\\\\di',\n",
       " 'play',\n",
       " 'tyle t_{0}} to t 1 {\\\\di',\n",
       " 'play',\n",
       " 'tyle t_{1}} i',\n",
       " '[6] Δ ',\n",
       " ' Δ t = ',\n",
       " ' ( t 1 ) − ',\n",
       " ' ( t 0 ) t 1 − t 0 . {\\\\di',\n",
       " 'play',\n",
       " 'tyle {\\x0crac {\\\\Delta ',\n",
       " '}{\\\\Delta t}}={\\x0crac {',\n",
       " '(t_{1})-',\n",
       " '(t_{0})}{t_{1}-t_{0}}}.}Here, the Greek letter Δ {\\\\di',\n",
       " 'play',\n",
       " 'tyle \\\\Delta } (delta) i',\n",
       " ' u',\n",
       " 'ed, per tradition, to mean \"change in\". A po',\n",
       " 'itive average velocity mean',\n",
       " ' that the po',\n",
       " 'ition coordinate ',\n",
       " ' {\\\\di',\n",
       " 'play',\n",
       " 'tyle ',\n",
       " '} increa',\n",
       " 'e',\n",
       " ' over the interval in que',\n",
       " 'tion, a negative average velocity indicate',\n",
       " ' a net decrea',\n",
       " 'e over that interval, and an average velocity of zero mean',\n",
       " ' that the body end',\n",
       " ' the time interval in the ',\n",
       " 'ame place a',\n",
       " ' it began. Calculu',\n",
       " ' give',\n",
       " ' the mean',\n",
       " ' to define an in',\n",
       " 'tantaneou',\n",
       " ' velocity, a mea',\n",
       " \"ure of a body'\",\n",
       " ' ',\n",
       " 'peed and direction of movement at a ',\n",
       " 'ingle moment of time, rather than over an interval. One notation for the in',\n",
       " 'tantaneou',\n",
       " ' velocity i',\n",
       " ' to replace Δ {\\\\di',\n",
       " 'play',\n",
       " 'tyle \\\\Delta } with the ',\n",
       " 'ymbol d {\\\\di',\n",
       " 'play',\n",
       " 'tyle d}, for example, v = d ',\n",
       " ' d t . {\\\\di',\n",
       " 'play',\n",
       " 'tyle v={\\x0crac {d',\n",
       " '}{dt}}.}Thi',\n",
       " ' denote',\n",
       " ' that the in',\n",
       " 'tantaneou',\n",
       " ' velocity i',\n",
       " ' the derivative of the po',\n",
       " 'ition with re',\n",
       " 'pect to time. It can roughly be thought of a',\n",
       " ' the ratio between an infinite',\n",
       " 'imally ',\n",
       " 'mall change in po',\n",
       " 'ition d ',\n",
       " ' {\\\\di',\n",
       " 'play',\n",
       " 'tyle d',\n",
       " '} to the infinite',\n",
       " 'imally ',\n",
       " 'mall time interval d t {\\\\di',\n",
       " 'play',\n",
       " 'tyle dt} over which it occur',\n",
       " '.[7] More carefully, the velocity and all other derivative',\n",
       " ' can be defined u',\n",
       " 'ing the concept of a limit.[6] A function f ( t ) {\\\\di',\n",
       " 'play',\n",
       " 'tyle f(t)} ha',\n",
       " ' a limit of L {\\\\di',\n",
       " 'play',\n",
       " 'tyle L} at a given input value t 0 {\\\\di',\n",
       " 'play',\n",
       " 'tyle t_{0}} if the difference between f {\\\\di',\n",
       " 'play',\n",
       " 'tyle f} and L {\\\\di',\n",
       " 'play',\n",
       " 'tyle L} can be made arbitrarily ',\n",
       " 'mall by choo',\n",
       " 'ing an input ',\n",
       " 'ufficiently clo',\n",
       " 'e to t 0 {\\\\di',\n",
       " 'play',\n",
       " 'tyle t_{0}}. One write',\n",
       " ', lim t → t 0 f ( t ) = L . {\\\\di',\n",
       " 'play',\n",
       " 'tyle \\\\lim _{t\\to t_{0}}f(t)=L.}In',\n",
       " 'tantaneou',\n",
       " ' velocity can be defined a',\n",
       " ' the limit of the average velocity a',\n",
       " ' the time interval ',\n",
       " 'hrink',\n",
       " ' to zero: d ',\n",
       " ' d t = lim Δ t → 0 ',\n",
       " ' ( t + Δ t ) − ',\n",
       " ' ( t ) Δ t . {\\\\di',\n",
       " 'play',\n",
       " 'tyle {\\x0crac {d',\n",
       " '}{dt}}=\\\\lim _{\\\\Delta t\\to 0}{\\x0crac {',\n",
       " '(t+\\\\Delta t)-',\n",
       " '(t)}{\\\\Delta t}}.} Acceleration i',\n",
       " ' to velocity a',\n",
       " ' velocity i',\n",
       " ' to po',\n",
       " 'ition: it i',\n",
       " ' the derivative of the velocity with re',\n",
       " 'pect to time.[note 2] Acceleration can likewi',\n",
       " 'e be defined a',\n",
       " ' a limit: a = d v d t = lim Δ t → 0 v ( t + Δ t ) − v ( t ) Δ t . {\\\\di',\n",
       " 'play',\n",
       " 'tyle a={\\x0crac {dv}{dt}}=\\\\lim _{\\\\Delta t\\to 0}{\\x0crac {v(t+\\\\Delta t)-v(t)}{\\\\Delta t}}.}Con',\n",
       " 'equently, the acceleration i',\n",
       " ' the ',\n",
       " 'econd derivative of po',\n",
       " 'ition,[7] often written d 2 ',\n",
       " ' d t 2 {\\\\di',\n",
       " 'play',\n",
       " 'tyle {\\x0crac {d^{2}',\n",
       " '}{dt^{2}}}}.\\n\\nPo',\n",
       " 'ition, when thought of a',\n",
       " ' a di',\n",
       " 'placement from an origin point, i',\n",
       " ' a vector: a quantity with both magnitude and direction.[9]:\\u200a1\\u200a Velocity and acceleration are vector quantitie',\n",
       " ' a',\n",
       " ' well. The mathematical tool',\n",
       " ' of vector algebra provide the mean',\n",
       " ' to de',\n",
       " 'cribe motion in two, three or more dimen',\n",
       " 'ion',\n",
       " '. Vector',\n",
       " ' are often denoted with an arrow, a',\n",
       " ' in ',\n",
       " ' {\\\\di',\n",
       " 'play',\n",
       " 'tyle \\\\mathbf {',\n",
       " '} }, or in bold typeface, ',\n",
       " 'uch a',\n",
       " ' ',\n",
       " ' {\\\\di',\n",
       " 'play',\n",
       " 'tyle {\\x08f {',\n",
       " '}}}. Often, vector',\n",
       " ' are repre',\n",
       " 'ented vi',\n",
       " 'ually a',\n",
       " ' arrow',\n",
       " ', with the direction of the vector being the direction of the arrow, and the magnitude of the vector indicated by the length of the arrow. Numerically, a vector can be repre',\n",
       " 'ented a',\n",
       " ' a li',\n",
       " \"t; for example, a body'\",\n",
       " ' velocity vector might be v = ( 3   m / ',\n",
       " ' , 4   m / ',\n",
       " ' ) {\\\\di',\n",
       " 'play',\n",
       " 'tyle \\\\mathbf {v} =(\\\\mathrm {3~m/',\n",
       " '} ,\\\\mathrm {4~m/',\n",
       " '} )}, indicating that it i',\n",
       " ' moving at 3 metre',\n",
       " ' per ',\n",
       " 'econd along the horizontal axi',\n",
       " ' and 4 metre',\n",
       " ' per ',\n",
       " 'econd along the vertical axi',\n",
       " '. The ',\n",
       " 'ame motion de',\n",
       " 'cribed in a different coordinate ',\n",
       " 'y',\n",
       " 'tem will be repre',\n",
       " 'ented by different number',\n",
       " ', and vector algebra can be u',\n",
       " 'ed to tran',\n",
       " 'late between the',\n",
       " 'e alternative',\n",
       " '.[9]:\\u200a4\\u200a\\n\\nThe ',\n",
       " 'tudy of mechanic',\n",
       " ' i',\n",
       " ' complicated by the fact that hou',\n",
       " 'ehold word',\n",
       " ' like energy are u',\n",
       " 'ed with a technical meaning.[10] Moreover, word',\n",
       " ' which are ',\n",
       " 'ynonymou',\n",
       " ' in everyday ',\n",
       " 'peech are not ',\n",
       " 'o in phy',\n",
       " 'ic',\n",
       " ': force i',\n",
       " ' not the ',\n",
       " 'ame a',\n",
       " ' power or pre',\n",
       " '',\n",
       " 'ure, for example, and ma',\n",
       " '',\n",
       " ' ha',\n",
       " ' a different meaning than weight.[11][12]:\\u200a150\\u200a The phy',\n",
       " 'ic',\n",
       " ' concept of force make',\n",
       " ' quantitative the everyday idea of a pu',\n",
       " 'h or a pull. Force',\n",
       " ' in Newtonian mechanic',\n",
       " ' are often due to ',\n",
       " 'tring',\n",
       " ' and rope',\n",
       " ', friction, mu',\n",
       " 'cle effort, gravity, and ',\n",
       " 'o forth. Like di',\n",
       " 'placement, velocity, and acceleration, force i',\n",
       " ' a vector quantity.\\nLaw',\n",
       " '\\nFir',\n",
       " 't law\\n',\n",
       " 'ee caption\\nArtificial ',\n",
       " 'atellite',\n",
       " ' move along curved orbit',\n",
       " ', rather than in ',\n",
       " 'traight line',\n",
       " ', becau',\n",
       " \"e of the Earth'\",\n",
       " ' gravity.\\n\\nTran',\n",
       " \"lated from Latin, Newton'\",\n",
       " ' fir',\n",
       " 't law read',\n",
       " ',\\n\\n    Every object per',\n",
       " 'evere',\n",
       " ' in it',\n",
       " ' ',\n",
       " 'tate of re',\n",
       " 't, or of uniform motion in a right line, except in',\n",
       " 'ofar a',\n",
       " ' it i',\n",
       " ' compelled to change that ',\n",
       " 'tate by force',\n",
       " ' impre',\n",
       " '',\n",
       " \"ed thereon.[note 3]\\n\\nNewton'\",\n",
       " ' fir',\n",
       " 't law expre',\n",
       " '',\n",
       " 'e',\n",
       " ' the principle of inertia: the natural behavior of a body i',\n",
       " ' to move in a ',\n",
       " 'traight line at con',\n",
       " 'tant ',\n",
       " \"peed. A body'\",\n",
       " ' motion pre',\n",
       " 'erve',\n",
       " ' the ',\n",
       " 'tatu',\n",
       " ' quo, but external force',\n",
       " ' can perturb thi',\n",
       " '.\\n\\nThe modern under',\n",
       " \"tanding of Newton'\",\n",
       " ' fir',\n",
       " 't law i',\n",
       " ' that no inertial ob',\n",
       " 'erver i',\n",
       " ' privileged over any other. The concept of an inertial ob',\n",
       " 'erver make',\n",
       " ' quantitative the everyday idea of feeling no effect',\n",
       " ' of motion. For example, a per',\n",
       " 'on ',\n",
       " 'tanding on the ground watching a train go pa',\n",
       " 't i',\n",
       " ' an inertial ob',\n",
       " 'erver. If the ob',\n",
       " 'erver on the ground ',\n",
       " 'ee',\n",
       " ' the train moving ',\n",
       " 'moothly in a ',\n",
       " 'traight line at a con',\n",
       " 'tant ',\n",
       " 'peed, then a pa',\n",
       " '',\n",
       " 'enger ',\n",
       " 'itting on the train will al',\n",
       " 'o be an inertial ob',\n",
       " 'erver: the train pa',\n",
       " '',\n",
       " 'enger feel',\n",
       " ' no motion. The principle expre',\n",
       " '',\n",
       " \"ed by Newton'\",\n",
       " ' fir',\n",
       " 't law i',\n",
       " ' that there i',\n",
       " ' no way to ',\n",
       " 'ay which inertial ob',\n",
       " 'erver i',\n",
       " ' \"really\" moving and which i',\n",
       " ' \"really\" ',\n",
       " 'tanding ',\n",
       " 'till. One ob',\n",
       " \"erver'\",\n",
       " ' ',\n",
       " 'tate of re',\n",
       " 't i',\n",
       " ' another ob',\n",
       " \"erver'\",\n",
       " ' ',\n",
       " 'tate of uniform motion in a ',\n",
       " 'traight line, and no experiment can deem either point of view to be correct or incorrect. There i',\n",
       " ' no ab',\n",
       " 'olute ',\n",
       " 'tandard of re',\n",
       " 't.[17][14]:\\u200a62–63\\u200a[18]:\\u200a7–9\\u200a Newton him',\n",
       " 'elf believed that ab',\n",
       " 'olute ',\n",
       " 'pace and time exi',\n",
       " 'ted, but that the only mea',\n",
       " 'ure',\n",
       " ' of ',\n",
       " 'pace or time acce',\n",
       " '',\n",
       " 'ible to experiment are relative.[19]\\nSecond law\\n\\n    The change of motion of an object i',\n",
       " ' proportional to the force impre',\n",
       " '',\n",
       " 'ed; and i',\n",
       " ' made in the direction of the ',\n",
       " 'traight line in which the force i',\n",
       " ' impre',\n",
       " '',\n",
       " 'ed.[14]:\\u200a114\\u200a\\n\\nBy \"motion\", Newton meant the quantity now called momentum, which depend',\n",
       " ' upon the amount of matter contained in a body, the ',\n",
       " 'peed at which that body i',\n",
       " ' moving, and the direction in which it i',\n",
       " ' moving.[20] In modern notation, the momentum of a body i',\n",
       " ' the product of it',\n",
       " ' ma',\n",
       " '',\n",
       " ' and it',\n",
       " ' velocity: p = m v , {\\\\di',\n",
       " 'play',\n",
       " 'tyle \\\\mathbf {p} =m\\\\mathbf {v} \\\\,,} where all three quantitie',\n",
       " \" can change over time. Newton'\",\n",
       " ' ',\n",
       " 'econd law, in modern form, ',\n",
       " 'tate',\n",
       " ' that the time derivative of the momentum i',\n",
       " ' the force: F = d p d t . {\\\\di',\n",
       " 'play',\n",
       " 'tyle \\\\mathbf {F} ={\\x0crac {d\\\\mathbf {p} }{dt}}\\\\,.} If the ma',\n",
       " '',\n",
       " ' m {\\\\di',\n",
       " 'play',\n",
       " 'tyle m} doe',\n",
       " ' not change with time, then the derivative act',\n",
       " ' only upon the velocity, and ',\n",
       " 'o the force equal',\n",
       " ' the product of the ma',\n",
       " '',\n",
       " ' and the time derivative of the velocity, which i',\n",
       " ' the acceleration:[21] F = m d v d t = m a . {\\\\di',\n",
       " 'play',\n",
       " 'tyle \\\\mathbf {F} =m{\\x0crac {d\\\\mathbf {v} }{dt}}=m\\\\mathbf {a} \\\\,.} A',\n",
       " ' the acceleration i',\n",
       " ' the ',\n",
       " 'econd derivative of po',\n",
       " 'ition with re',\n",
       " 'pect to time, thi',\n",
       " ' can al',\n",
       " 'o be written F = m d 2 ',\n",
       " ' d t 2 . {\\\\di',\n",
       " 'play',\n",
       " 'tyle \\\\mathbf {F} =m{\\x0crac {d^{2}\\\\mathbf {',\n",
       " '} }{dt^{2}}}.}\\nA free body diagram for a block on an inclined plane, illu',\n",
       " 'trating the normal force perpendicular to the plane (N), the downward force of gravity (mg), and a force f along the direction of the plane that could be applied, for example, by friction or a ',\n",
       " 'tring\\n\\nThe force',\n",
       " ' acting on a body add a',\n",
       " ' vector',\n",
       " ', and ',\n",
       " 'o the total force on a body depend',\n",
       " ' upon both the magnitude',\n",
       " ' and the direction',\n",
       " ' of the individual force',\n",
       " '. When the net force on a body i',\n",
       " \" equal to zero, then by Newton'\",\n",
       " ' ',\n",
       " 'econd law, the body doe',\n",
       " ' not accelerate, and it i',\n",
       " ' ',\n",
       " 'aid to be in mechanical equilibrium. A ',\n",
       " 'tate of mechanical equilibrium i',\n",
       " ' ',\n",
       " 'table if, when the po',\n",
       " 'ition of the body i',\n",
       " ' changed ',\n",
       " 'lightly, the body remain',\n",
       " ' near that equilibrium. Otherwi',\n",
       " 'e, the equilibrium i',\n",
       " ' un',\n",
       " 'table.\\n\\nA common vi',\n",
       " 'ual repre',\n",
       " 'entation of force',\n",
       " ' acting in concert i',\n",
       " ' the free body diagram, which ',\n",
       " 'chematically portray',\n",
       " ' a body of intere',\n",
       " 't and the force',\n",
       " ' applied to it by out',\n",
       " 'ide influence',\n",
       " '.[22] For example, a free body diagram of a block ',\n",
       " 'itting upon an inclined plane can illu',\n",
       " 'trate the combination of gravitational force, \"normal\" force, friction, and ',\n",
       " 'tring ten',\n",
       " \"ion.[note 4]\\n\\nNewton'\",\n",
       " ' ',\n",
       " 'econd law i',\n",
       " ' ',\n",
       " 'ometime',\n",
       " ' pre',\n",
       " 'ented a',\n",
       " ' a definition of force, i.e., a force i',\n",
       " ' that which exi',\n",
       " 't',\n",
       " ' when an inertial ob',\n",
       " 'erver ',\n",
       " 'ee',\n",
       " ' a body accelerating. In order for thi',\n",
       " ' to be more than a tautology — acceleration implie',\n",
       " ' force, force implie',\n",
       " ' acceleration — ',\n",
       " 'ome other ',\n",
       " 'tatement about force mu',\n",
       " 't al',\n",
       " 'o be made. For example, an equation detailing the force might be ',\n",
       " \"pecified, like Newton'\",\n",
       " ' law of univer',\n",
       " 'al gravitation. By in',\n",
       " 'erting ',\n",
       " 'uch an expre',\n",
       " '',\n",
       " 'ion for F {\\\\di',\n",
       " 'play',\n",
       " \"tyle \\\\mathbf {F} } into Newton'\",\n",
       " ' ',\n",
       " \"econd law, an equation with predictive power can be written.[note 5] Newton'\",\n",
       " ' ',\n",
       " 'econd law ha',\n",
       " ' al',\n",
       " 'o been regarded a',\n",
       " ' ',\n",
       " 'etting out a re',\n",
       " 'earch program for phy',\n",
       " 'ic',\n",
       " ', e',\n",
       " 'tabli',\n",
       " 'hing that important goal',\n",
       " ' of the ',\n",
       " 'ubject are to identify the force',\n",
       " ' pre',\n",
       " 'ent in nature and to catalogue the con',\n",
       " 'tituent',\n",
       " ' of matter.[14]:\\u200a134\\u200a[25]:\\u200a12-2\\u200a\\nThird law\\n\\n    To every action, there i',\n",
       " ' alway',\n",
       " ' oppo',\n",
       " 'ed an equal reaction; or, the mutual action',\n",
       " ' of two bodie',\n",
       " ' upon each other are alway',\n",
       " ' equal, and directed to contrary part',\n",
       " '.[14]:\\u200a116\\u200a\\n\\nRocket',\n",
       " ' work by producing a ',\n",
       " 'trong reaction force downward',\n",
       " ' u',\n",
       " 'ing rocket engine',\n",
       " '. Thi',\n",
       " ' pu',\n",
       " 'he',\n",
       " ' the rocket upward',\n",
       " ', without regard to the ground or the atmo',\n",
       " 'phere.\\n\\nOverly brief paraphra',\n",
       " 'e',\n",
       " ' of the third law, like \"action equal',\n",
       " ' reaction\" might have cau',\n",
       " 'ed confu',\n",
       " 'ion among generation',\n",
       " ' of ',\n",
       " 'tudent',\n",
       " ': the \"action\" and \"reaction\" apply to different bodie',\n",
       " '. For example, con',\n",
       " 'ider a book at re',\n",
       " \"t on a table. The Earth'\",\n",
       " ' gravity pull',\n",
       " ' down upon the book. The \"reaction\" to that \"action\" i',\n",
       " ' not the ',\n",
       " \"upport force from the table holding up the book, but the gravitational pull of the book acting on the Earth.[note 6]\\n\\nNewton'\",\n",
       " ' third law relate',\n",
       " ' to a more fundamental principle, the con',\n",
       " 'ervation of momentum. The latter remain',\n",
       " ' true even in ca',\n",
       " 'e',\n",
       " \" where Newton'\",\n",
       " ' ',\n",
       " 'tatement doe',\n",
       " ' not, for in',\n",
       " 'tance when force field',\n",
       " ' a',\n",
       " ' well a',\n",
       " ' material bodie',\n",
       " ' carry momentum, and when momentum i',\n",
       " ' defined properly, in quantum mechanic',\n",
       " ' a',\n",
       " ' well.[note 7] In Newtonian mechanic',\n",
       " ', if two bodie',\n",
       " ' have momenta p 1 {\\\\di',\n",
       " 'play',\n",
       " 'tyle \\\\mathbf {p} _{1}} and p 2 {\\\\di',\n",
       " 'play',\n",
       " 'tyle \\\\mathbf {p} _{2}} re',\n",
       " 'pectively, then the total momentum of the pair i',\n",
       " ' p = p 1 + p 2 {\\\\di',\n",
       " 'play',\n",
       " 'tyle \\\\mathbf {p} =\\\\mathbf {p} _{1}+\\\\mathbf {p} _{2}}, and the rate of change of p {\\\\di',\n",
       " 'play',\n",
       " 'tyle \\\\mathbf {p} } i',\n",
       " ' d p d t = d p 1 d t + d p 2 d t . {\\\\di',\n",
       " 'play',\n",
       " \"tyle {\\x0crac {d\\\\mathbf {p} }{dt}}={\\x0crac {d\\\\mathbf {p} _{1}}{dt}}+{\\x0crac {d\\\\mathbf {p} _{2}}{dt}}.} By Newton'\",\n",
       " ' ',\n",
       " 'econd law, the fir',\n",
       " 't term i',\n",
       " ' the total force upon the fir',\n",
       " 't body, and the ',\n",
       " 'econd term i',\n",
       " ' the total force upon the ',\n",
       " 'econd body. If the two bodie',\n",
       " ' are i',\n",
       " 'olated from out',\n",
       " 'ide influence',\n",
       " ', the only force upon the fir',\n",
       " 't body can be that from the ',\n",
       " 'econd, and vice ver',\n",
       " \"a. By Newton'\",\n",
       " ' third law, the',\n",
       " 'e force',\n",
       " ' have equal magnitude but oppo',\n",
       " 'ite direction, ',\n",
       " 'o they cancel when added, and p {\\\\di',\n",
       " 'play',\n",
       " 'tyle \\\\mathbf {p} } i',\n",
       " ' con',\n",
       " 'tant. Alternatively, if p {\\\\di',\n",
       " 'play',\n",
       " 'tyle \\\\mathbf {p} } i',\n",
       " ' known to be con',\n",
       " 'tant, it follow',\n",
       " ' that the force',\n",
       " ' have equal magnitude and oppo',\n",
       " 'ite direction.\\nCandidate',\n",
       " ' for additional law',\n",
       " '\\n\\nVariou',\n",
       " ' ',\n",
       " 'ource',\n",
       " ' have propo',\n",
       " 'ed elevating other idea',\n",
       " ' u',\n",
       " 'ed in cla',\n",
       " '',\n",
       " 'ical mechanic',\n",
       " ' to the ',\n",
       " 'tatu',\n",
       " \" of Newton'\",\n",
       " ' law',\n",
       " '. For example, in Newtonian mechanic',\n",
       " ', the total ma',\n",
       " '',\n",
       " ' of a body made by bringing together two ',\n",
       " 'maller bodie',\n",
       " ' i',\n",
       " ' the ',\n",
       " 'um of their individual ma',\n",
       " '',\n",
       " 'e',\n",
       " '. Frank Wilczek ha',\n",
       " ' ',\n",
       " 'ugge',\n",
       " 'ted calling attention to thi',\n",
       " ' a',\n",
       " '',\n",
       " 'umption by de',\n",
       " 'ignating it \"Newton\\'',\n",
       " ' Zeroth Law\".[33] Another candidate for a \"zeroth law\" i',\n",
       " ' the fact that at any in',\n",
       " 'tant, a body react',\n",
       " ' to the force',\n",
       " ' applied to it at that in',\n",
       " 'tant.[34] Likewi',\n",
       " 'e, the idea that force',\n",
       " ' add like vector',\n",
       " ' (or in other word',\n",
       " ' obey the ',\n",
       " 'uperpo',\n",
       " 'ition principle), and the idea that force',\n",
       " ' change the energy of a body, have both been de',\n",
       " 'cribed a',\n",
       " ' a \"fourth law\".[note 8]\\nExample',\n",
       " '\\n\\nThe ',\n",
       " 'tudy of the behavior of ma',\n",
       " '',\n",
       " 'ive bodie',\n",
       " ' u',\n",
       " \"ing Newton'\",\n",
       " ' law',\n",
       " ' i',\n",
       " ' known a',\n",
       " ' Newtonian mechanic',\n",
       " '. Some example problem',\n",
       " ' in Newtonian mechanic',\n",
       " ' are particularly noteworthy for conceptual or hi',\n",
       " 'torical rea',\n",
       " 'on',\n",
       " '.\\nUniformly accelerated motion\\nMain article',\n",
       " ': Free fall and Projectile motion\\nA bouncing ball photographed at 25 frame',\n",
       " ' per ',\n",
       " 'econd u',\n",
       " 'ing a ',\n",
       " 'trobo',\n",
       " 'copic fla',\n",
       " 'h. In between bounce',\n",
       " \", the ball'\",\n",
       " ' height a',\n",
       " ' a function of time i',\n",
       " ' clo',\n",
       " 'e to being a parabola, deviating from a parabolic arc becau',\n",
       " 'e of air re',\n",
       " 'i',\n",
       " 'tance, ',\n",
       " 'pin, and deformation into a non-',\n",
       " 'pherical ',\n",
       " 'hape upon impact.\\n\\nIf a body fall',\n",
       " ' from re',\n",
       " 't near the ',\n",
       " 'urface of the Earth, then in the ab',\n",
       " 'ence of air re',\n",
       " 'i',\n",
       " 'tance, it will accelerate at a con',\n",
       " 'tant rate. Thi',\n",
       " ' i',\n",
       " ' known a',\n",
       " ' free fall. The ',\n",
       " 'peed attained during free fall i',\n",
       " ' proportional to the elap',\n",
       " 'ed time, and the di',\n",
       " 'tance traveled i',\n",
       " ' proportional to the ',\n",
       " 'quare of the elap',\n",
       " 'ed time.[39] Importantly, the acceleration i',\n",
       " ' the ',\n",
       " 'ame for all bodie',\n",
       " ', independently of their ma',\n",
       " '',\n",
       " '. Thi',\n",
       " ' follow',\n",
       " \" from combining Newton'\",\n",
       " ' ',\n",
       " 'econd law of motion with hi',\n",
       " ' law of univer',\n",
       " 'al gravitation. The latter ',\n",
       " 'tate',\n",
       " ' that the magnitude of the gravitational force from the Earth upon the body i',\n",
       " ' F = G M m r 2 , {\\\\di',\n",
       " 'play',\n",
       " 'tyle F={\\x0crac {GMm}{r^{2}}},} where m {\\\\di',\n",
       " 'play',\n",
       " 'tyle m} i',\n",
       " ' the ma',\n",
       " '',\n",
       " ' of the falling body, M {\\\\di',\n",
       " 'play',\n",
       " 'tyle M} i',\n",
       " ' the ma',\n",
       " '',\n",
       " ' of the Earth, G {\\\\di',\n",
       " 'play',\n",
       " 'tyle G} i',\n",
       " \" Newton'\",\n",
       " ' con',\n",
       " 'tant, and r {\\\\di',\n",
       " 'play',\n",
       " 'tyle r} i',\n",
       " ' the di',\n",
       " \"tance from the center of the Earth to the body'\",\n",
       " ' location, which i',\n",
       " ' very nearly the radiu',\n",
       " ' of the Earth. Setting thi',\n",
       " ' equal to m a {\\\\di',\n",
       " 'play',\n",
       " \"tyle ma}, the body'\",\n",
       " ' ma',\n",
       " '',\n",
       " ' m {\\\\di',\n",
       " 'play',\n",
       " 'tyle m} cancel',\n",
       " ' from both ',\n",
       " 'ide',\n",
       " ' of the equation, leaving an acceleration that depend',\n",
       " ' upon G {\\\\di',\n",
       " 'play',\n",
       " 'tyle G}, M {\\\\di',\n",
       " 'play',\n",
       " 'tyle M}, and r {\\\\di',\n",
       " 'play',\n",
       " 'tyle r}, and r {\\\\di',\n",
       " 'play',\n",
       " 'tyle r} can be taken to be con',\n",
       " 'tant. Thi',\n",
       " ' particular value of acceleration i',\n",
       " ' typically denoted g {\\\\di',\n",
       " 'play',\n",
       " 'tyle g}: g = G M r 2 ≈ 9.8   m / ',\n",
       " ' 2 . {\\\\di',\n",
       " 'play',\n",
       " 'tyle g={\\x0crac {GM}{r^{2}}}\\x07pprox \\\\mathrm {9.8~m/',\n",
       " '^{2}} .}\\n\\nIf the body i',\n",
       " ' not relea',\n",
       " 'ed from re',\n",
       " 't but in',\n",
       " 'tead launched upward',\n",
       " ' and/or horizontally with nonzero velocity, then free fall become',\n",
       " ' projectile motion.[40] When air re',\n",
       " 'i',\n",
       " 'tance can be neglected, projectile',\n",
       " ' follow parabola-',\n",
       " 'haped trajectorie',\n",
       " ', becau',\n",
       " 'e gravity affect',\n",
       " \" the body'\",\n",
       " ' vertical motion and not it',\n",
       " \" horizontal. At the peak of the projectile'\",\n",
       " ' trajectory, it',\n",
       " ' vertical velocity i',\n",
       " ' zero, but it',\n",
       " ' acceleration i',\n",
       " ' g {\\\\di',\n",
       " 'play',\n",
       " 'tyle g} downward',\n",
       " ', a',\n",
       " ' it i',\n",
       " ' at all time',\n",
       " '. Setting the wrong vector equal to zero i',\n",
       " ' a common confu',\n",
       " 'ion among phy',\n",
       " 'ic',\n",
       " ' ',\n",
       " 'tudent',\n",
       " '.[41]\\nUniform circular motion\\nMain article: Circular motion\\nTwo object',\n",
       " ' in uniform circular motion, orbiting around the barycenter (center of ma',\n",
       " '',\n",
       " ' of both object',\n",
       " ')\\n\\nWhen a body i',\n",
       " ' in uniform circular motion, the force on it change',\n",
       " ' the direction of it',\n",
       " ' motion but not it',\n",
       " ' ',\n",
       " 'peed. For a body moving in a circle of radiu',\n",
       " ' r {\\\\di',\n",
       " 'play',\n",
       " 'tyle r} at a con',\n",
       " 'tant ',\n",
       " 'peed v {\\\\di',\n",
       " 'play',\n",
       " 'tyle v}, it',\n",
       " ' acceleration ha',\n",
       " ' a magnitude a = v 2 r {\\\\di',\n",
       " 'play',\n",
       " 'tyle a={\\x0crac {v^{2}}{r}}}and i',\n",
       " ' directed toward the center of the circle.[note 9] The force required to ',\n",
       " 'u',\n",
       " 'tain thi',\n",
       " ' acceleration, called the centripetal force, i',\n",
       " ' therefore al',\n",
       " 'o directed toward the center of the circle and ha',\n",
       " ' magnitude m v 2 / r {\\\\di',\n",
       " 'play',\n",
       " 'tyle mv^{2}/r}. Many orbit',\n",
       " ', ',\n",
       " 'uch a',\n",
       " ' that of the Moon around the Earth, can be approximated by uniform circular motion. In ',\n",
       " 'uch ca',\n",
       " 'e',\n",
       " ', the centripetal force i',\n",
       " \" gravity, and by Newton'\",\n",
       " ' law of univer',\n",
       " 'al gravitation ha',\n",
       " ' magnitude G M m / r 2 {\\\\di',\n",
       " 'play',\n",
       " 'tyle GMm/r^{2}}, where M {\\\\di',\n",
       " 'play',\n",
       " 'tyle M} i',\n",
       " ' the ma',\n",
       " '',\n",
       " ' of the larger body being orbited. Therefore, the ma',\n",
       " '',\n",
       " ' of a body can be calculated from ob',\n",
       " 'ervation',\n",
       " \" of another body orbiting around it.[43]:\\u200a130\\u200a\\n\\nNewton'\",\n",
       " ' cannonball i',\n",
       " ' a thought experiment that interpolate',\n",
       " ' between projectile motion and uniform circular motion. A cannonball that i',\n",
       " ' lobbed weakly off the edge of a tall cliff will hit the ground in the ',\n",
       " 'ame amount of time a',\n",
       " ' if it were dropped from re',\n",
       " 't, becau',\n",
       " 'e the force of gravity only affect',\n",
       " \" the cannonball'\",\n",
       " ' momentum in the downward direction, and it',\n",
       " ' effect i',\n",
       " ' not dimini',\n",
       " 'hed by horizontal movement. If the cannonball i',\n",
       " ' launched with a greater initial horizontal velocity, then it will travel farther before it hit',\n",
       " ' the ground, but it will ',\n",
       " 'till hit the ground in the ',\n",
       " 'ame amount of time. However, if the cannonball i',\n",
       " ' launched with an even larger initial velocity, then the curvature of the Earth become',\n",
       " ' ',\n",
       " 'ignificant: the ground it',\n",
       " 'elf will curve away from the falling cannonball. A very fa',\n",
       " 't cannonball will fall away from the inertial ',\n",
       " 'traight-line trajectory at the ',\n",
       " 'ame rate that the Earth curve',\n",
       " ' away beneath it; in other word',\n",
       " ', it will be in orbit (imagining that it i',\n",
       " ' not ',\n",
       " 'lowed by air re',\n",
       " 'i',\n",
       " 'tance or ob',\n",
       " 'tacle',\n",
       " ').[44]\\nHarmonic motion\\nMain article: Harmonic o',\n",
       " 'cillator\\nAn undamped ',\n",
       " 'pring–ma',\n",
       " '',\n",
       " ' ',\n",
       " 'y',\n",
       " 'tem undergoe',\n",
       " ' ',\n",
       " 'imple harmonic motion.\\n\\nCon',\n",
       " 'ider a body of ma',\n",
       " '',\n",
       " ' m {\\\\di',\n",
       " 'play',\n",
       " 'tyle m} able to move along the x {\\\\di',\n",
       " 'play',\n",
       " 'tyle x} axi',\n",
       " ', and ',\n",
       " 'uppo',\n",
       " 'e an equilibrium point exi',\n",
       " 't',\n",
       " ' at the po',\n",
       " 'ition x = 0 {\\\\di',\n",
       " 'play',\n",
       " 'tyle x=0}. That i',\n",
       " ', at x = 0 {\\\\di',\n",
       " 'play',\n",
       " 'tyle x=0}, the net force upon the body i',\n",
       " \" the zero vector, and by Newton'\",\n",
       " ' ',\n",
       " 'econd law, the body will not accelerate. If the force upon the body i',\n",
       " ' proportional to the di',\n",
       " 'placement from the equilibrium point, and directed to the equilibrium point, then the body will perform ',\n",
       " 'imple harmonic motion. Writing the force a',\n",
       " ' F = − k x {\\\\di',\n",
       " ...]"
      ]
     },
     "execution_count": 76,
     "metadata": {},
     "output_type": "execute_result"
    }
   ],
   "source": [
    "list_of_words"
   ]
  },
  {
   "cell_type": "code",
   "execution_count": 72,
   "metadata": {},
   "outputs": [
    {
     "data": {
      "text/plain": [
       "4211"
      ]
     },
     "execution_count": 72,
     "metadata": {},
     "output_type": "execute_result"
    }
   ],
   "source": [
    "len(list_of_words)"
   ]
  },
  {
   "cell_type": "code",
   "execution_count": 74,
   "metadata": {},
   "outputs": [
    {
     "data": {
      "text/plain": [
       "1247"
      ]
     },
     "execution_count": 74,
     "metadata": {},
     "output_type": "execute_result"
    }
   ],
   "source": [
    "len(set(list_of_words))"
   ]
  },
  {
   "cell_type": "code",
   "execution_count": 77,
   "metadata": {},
   "outputs": [],
   "source": [
    "s = \"Hello all , how is everybody doing\""
   ]
  },
  {
   "cell_type": "code",
   "execution_count": 78,
   "metadata": {},
   "outputs": [
    {
     "data": {
      "text/plain": [
       "'Hello all , how is everybody doing'"
      ]
     },
     "execution_count": 78,
     "metadata": {},
     "output_type": "execute_result"
    }
   ],
   "source": [
    "s"
   ]
  },
  {
   "cell_type": "code",
   "execution_count": 81,
   "metadata": {},
   "outputs": [
    {
     "data": {
      "text/plain": [
       "['H', 'llo all , how is ', 'v', 'rybody doing']"
      ]
     },
     "execution_count": 81,
     "metadata": {},
     "output_type": "execute_result"
    }
   ],
   "source": [
    "s.split(\"e\")"
   ]
  },
  {
   "cell_type": "code",
   "execution_count": 86,
   "metadata": {},
   "outputs": [],
   "source": [
    "data = \"\"\"A rigid body is an object whose size is too large to neglect \n",
    "and which maintains the same shape over time. \n",
    "In Newtonian mechanics, the motion of a rigid body is often understood by separating it into movement\n",
    "of the body's center of mass and movement around the center of mass.\"\"\""
   ]
  },
  {
   "cell_type": "code",
   "execution_count": 87,
   "metadata": {},
   "outputs": [
    {
     "data": {
      "text/plain": [
       "\"A rigid body is an object whose size is too large to neglect \\nand which maintains the same shape over time. \\nIn Newtonian mechanics, the motion of a rigid body is often understood by separating it into movement\\nof the body's center of mass and movement around the center of mass.\""
      ]
     },
     "execution_count": 87,
     "metadata": {},
     "output_type": "execute_result"
    }
   ],
   "source": [
    "data"
   ]
  },
  {
   "cell_type": "code",
   "execution_count": 89,
   "metadata": {},
   "outputs": [],
   "source": [
    "unique_words = set(data.split())\n"
   ]
  },
  {
   "cell_type": "code",
   "execution_count": 90,
   "metadata": {},
   "outputs": [
    {
     "name": "stdout",
     "output_type": "stream",
     "text": [
      "{'large', 'neglect', 'In', 'mechanics,', 'motion', 'over', 'rigid', 'the', 'movement', 'object', 'center', 'same', 'into', 'shape', 'size', 'A', 'a', 'understood', 'body', 'whose', 'mass.', 'time.', 'of', \"body's\", 'which', 'to', 'by', 'too', 'mass', 'is', 'Newtonian', 'around', 'separating', 'maintains', 'an', 'often', 'and', 'it'}\n"
     ]
    }
   ],
   "source": [
    "\n",
    "print(unique_words)"
   ]
  },
  {
   "cell_type": "code",
   "execution_count": 91,
   "metadata": {},
   "outputs": [
    {
     "data": {
      "text/plain": [
       "38"
      ]
     },
     "execution_count": 91,
     "metadata": {},
     "output_type": "execute_result"
    }
   ],
   "source": [
    "len(unique_words)"
   ]
  },
  {
   "cell_type": "code",
   "execution_count": 92,
   "metadata": {},
   "outputs": [],
   "source": [
    "lines = data.split(\"\\n\")"
   ]
  },
  {
   "cell_type": "code",
   "execution_count": 93,
   "metadata": {},
   "outputs": [
    {
     "data": {
      "text/plain": [
       "['A rigid body is an object whose size is too large to neglect ',\n",
       " 'and which maintains the same shape over time. ',\n",
       " 'In Newtonian mechanics, the motion of a rigid body is often understood by separating it into movement',\n",
       " \"of the body's center of mass and movement around the center of mass.\"]"
      ]
     },
     "execution_count": 93,
     "metadata": {},
     "output_type": "execute_result"
    }
   ],
   "source": [
    "lines"
   ]
  },
  {
   "cell_type": "code",
   "execution_count": 94,
   "metadata": {},
   "outputs": [
    {
     "name": "stdout",
     "output_type": "stream",
     "text": [
      "Hello all,\n",
      "How is everyone\n"
     ]
    }
   ],
   "source": [
    "print(\"Hello all,\\nHow is everyone\")"
   ]
  },
  {
   "cell_type": "markdown",
   "metadata": {},
   "source": [
    "## Dictionary\n",
    "\n",
    "- keys:value\n",
    "\n",
    "- rules for keys\n",
    "\n",
    "- can store anything as a value: str,int,float,list,tuple,dict\n",
    "\n",
    "- {-:-}= >Key:value pair\n",
    "\n",
    "- mutable"
   ]
  },
  {
   "cell_type": "code",
   "execution_count": 95,
   "metadata": {},
   "outputs": [],
   "source": [
    "d = {}"
   ]
  },
  {
   "cell_type": "code",
   "execution_count": 96,
   "metadata": {},
   "outputs": [
    {
     "data": {
      "text/plain": [
       "{}"
      ]
     },
     "execution_count": 96,
     "metadata": {},
     "output_type": "execute_result"
    }
   ],
   "source": [
    "d"
   ]
  },
  {
   "cell_type": "code",
   "execution_count": 97,
   "metadata": {},
   "outputs": [
    {
     "data": {
      "text/plain": [
       "dict"
      ]
     },
     "execution_count": 97,
     "metadata": {},
     "output_type": "execute_result"
    }
   ],
   "source": [
    "type(d)"
   ]
  },
  {
   "cell_type": "code",
   "execution_count": 103,
   "metadata": {},
   "outputs": [],
   "source": [
    "d = {1,2}"
   ]
  },
  {
   "cell_type": "code",
   "execution_count": 104,
   "metadata": {},
   "outputs": [
    {
     "data": {
      "text/plain": [
       "set"
      ]
     },
     "execution_count": 104,
     "metadata": {},
     "output_type": "execute_result"
    }
   ],
   "source": [
    "type(d)"
   ]
  },
  {
   "cell_type": "code",
   "execution_count": 105,
   "metadata": {},
   "outputs": [],
   "source": [
    "d = {'name':\"jaiyesh\"}"
   ]
  },
  {
   "cell_type": "code",
   "execution_count": 106,
   "metadata": {},
   "outputs": [
    {
     "data": {
      "text/plain": [
       "{'name': 'jaiyesh'}"
      ]
     },
     "execution_count": 106,
     "metadata": {},
     "output_type": "execute_result"
    }
   ],
   "source": [
    "d"
   ]
  },
  {
   "cell_type": "code",
   "execution_count": 107,
   "metadata": {},
   "outputs": [
    {
     "data": {
      "text/plain": [
       "dict"
      ]
     },
     "execution_count": 107,
     "metadata": {},
     "output_type": "execute_result"
    }
   ],
   "source": [
    "type(d)"
   ]
  },
  {
   "cell_type": "code",
   "execution_count": 108,
   "metadata": {},
   "outputs": [],
   "source": [
    "d = {\"name\":\"jaiyesh\",\"age\":\"xyz\",\"number\":5655634,\"mail\":\"abc@xyz\"}"
   ]
  },
  {
   "cell_type": "code",
   "execution_count": 109,
   "metadata": {},
   "outputs": [
    {
     "data": {
      "text/plain": [
       "{'name': 'jaiyesh', 'age': 'xyz', 'number': 5655634, 'mail': 'abc@xyz'}"
      ]
     },
     "execution_count": 109,
     "metadata": {},
     "output_type": "execute_result"
    }
   ],
   "source": [
    "d"
   ]
  },
  {
   "cell_type": "code",
   "execution_count": 111,
   "metadata": {},
   "outputs": [
    {
     "data": {
      "text/plain": [
       "5655634"
      ]
     },
     "execution_count": 111,
     "metadata": {},
     "output_type": "execute_result"
    }
   ],
   "source": [
    "d[\"number\"]"
   ]
  },
  {
   "cell_type": "code",
   "execution_count": 112,
   "metadata": {},
   "outputs": [],
   "source": [
    "rock_properties = {'poro' : 0.25, 'perm' : 150 , 'lithology' : 'Limestone'}\n"
   ]
  },
  {
   "cell_type": "code",
   "execution_count": 113,
   "metadata": {},
   "outputs": [
    {
     "data": {
      "text/plain": [
       "{'poro': 0.25, 'perm': 150, 'lithology': 'Limestone'}"
      ]
     },
     "execution_count": 113,
     "metadata": {},
     "output_type": "execute_result"
    }
   ],
   "source": [
    "rock_properties"
   ]
  },
  {
   "cell_type": "code",
   "execution_count": 114,
   "metadata": {},
   "outputs": [],
   "source": [
    "l = [0.25,150,\"Limestone\"]"
   ]
  },
  {
   "cell_type": "markdown",
   "metadata": {},
   "source": [
    "## Key must be unique\n",
    "\n",
    "- Repeated keys, value will be updated to latest data"
   ]
  },
  {
   "cell_type": "code",
   "execution_count": 117,
   "metadata": {},
   "outputs": [],
   "source": [
    "rock_properties = {'poro' : 0.25, 'perm' : 150 , 'lithology' : 'Limestone',\"poro\":0.3,\"lithology\":\"Shale\"}\n"
   ]
  },
  {
   "cell_type": "code",
   "execution_count": 118,
   "metadata": {},
   "outputs": [
    {
     "data": {
      "text/plain": [
       "{'poro': 0.3, 'perm': 150, 'lithology': 'Shale'}"
      ]
     },
     "execution_count": 118,
     "metadata": {},
     "output_type": "execute_result"
    }
   ],
   "source": [
    "rock_properties"
   ]
  },
  {
   "cell_type": "code",
   "execution_count": 119,
   "metadata": {},
   "outputs": [],
   "source": [
    "## Rules for key: Key can be a number,string, float"
   ]
  },
  {
   "cell_type": "code",
   "execution_count": 120,
   "metadata": {},
   "outputs": [],
   "source": [
    "d1 = {34:\"ashda\",4:6}"
   ]
  },
  {
   "cell_type": "code",
   "execution_count": 121,
   "metadata": {},
   "outputs": [
    {
     "data": {
      "text/plain": [
       "{34: 'ashda', 4: 6}"
      ]
     },
     "execution_count": 121,
     "metadata": {},
     "output_type": "execute_result"
    }
   ],
   "source": [
    "d1"
   ]
  },
  {
   "cell_type": "code",
   "execution_count": 122,
   "metadata": {},
   "outputs": [
    {
     "data": {
      "text/plain": [
       "6"
      ]
     },
     "execution_count": 122,
     "metadata": {},
     "output_type": "execute_result"
    }
   ],
   "source": [
    "d1[4]"
   ]
  },
  {
   "cell_type": "code",
   "execution_count": 123,
   "metadata": {},
   "outputs": [
    {
     "data": {
      "text/plain": [
       "'ashda'"
      ]
     },
     "execution_count": 123,
     "metadata": {},
     "output_type": "execute_result"
    }
   ],
   "source": [
    "d1[34]"
   ]
  },
  {
   "cell_type": "code",
   "execution_count": 126,
   "metadata": {},
   "outputs": [],
   "source": [
    "d1 = {34:\"ashda\",\"f\":6,5.6:54}"
   ]
  },
  {
   "cell_type": "code",
   "execution_count": 127,
   "metadata": {},
   "outputs": [
    {
     "data": {
      "text/plain": [
       "{34: 'ashda', 'f': 6, 5.6: 54}"
      ]
     },
     "execution_count": 127,
     "metadata": {},
     "output_type": "execute_result"
    }
   ],
   "source": [
    "d1"
   ]
  },
  {
   "cell_type": "code",
   "execution_count": 128,
   "metadata": {},
   "outputs": [],
   "source": [
    "## Special case charaters(_,#,@)"
   ]
  },
  {
   "cell_type": "code",
   "execution_count": 131,
   "metadata": {},
   "outputs": [],
   "source": [
    "d1 = {\"_34\":\"ashda\",\"f\":6,5.6:54}"
   ]
  },
  {
   "cell_type": "code",
   "execution_count": 132,
   "metadata": {},
   "outputs": [
    {
     "data": {
      "text/plain": [
       "{'_34': 'ashda', 'f': 6, 5.6: 54}"
      ]
     },
     "execution_count": 132,
     "metadata": {},
     "output_type": "execute_result"
    }
   ],
   "source": [
    "d1"
   ]
  },
  {
   "cell_type": "code",
   "execution_count": 133,
   "metadata": {},
   "outputs": [],
   "source": [
    "d1 = {'_3443':'jc','name':'Jaiyesh','n':[2,3,4,5,67,8,'js',(1,2,3,4)],'t':(3,4,5,6),'d':{1:23,'jv':'hs'}}"
   ]
  },
  {
   "cell_type": "code",
   "execution_count": 134,
   "metadata": {},
   "outputs": [
    {
     "data": {
      "text/plain": [
       "{'_3443': 'jc',\n",
       " 'name': 'Jaiyesh',\n",
       " 'n': [2, 3, 4, 5, 67, 8, 'js', (1, 2, 3, 4)],\n",
       " 't': (3, 4, 5, 6),\n",
       " 'd': {1: 23, 'jv': 'hs'}}"
      ]
     },
     "execution_count": 134,
     "metadata": {},
     "output_type": "execute_result"
    }
   ],
   "source": [
    "d1"
   ]
  },
  {
   "cell_type": "code",
   "execution_count": 135,
   "metadata": {},
   "outputs": [
    {
     "data": {
      "text/plain": [
       "'Jaiyesh'"
      ]
     },
     "execution_count": 135,
     "metadata": {},
     "output_type": "execute_result"
    }
   ],
   "source": [
    "d1[\"name\"]"
   ]
  },
  {
   "cell_type": "code",
   "execution_count": 137,
   "metadata": {},
   "outputs": [
    {
     "data": {
      "text/plain": [
       "'hs'"
      ]
     },
     "execution_count": 137,
     "metadata": {},
     "output_type": "execute_result"
    }
   ],
   "source": [
    "d1[\"d\"][\"jv\"]"
   ]
  },
  {
   "cell_type": "code",
   "execution_count": 140,
   "metadata": {},
   "outputs": [
    {
     "data": {
      "text/plain": [
       "3"
      ]
     },
     "execution_count": 140,
     "metadata": {},
     "output_type": "execute_result"
    }
   ],
   "source": [
    "d1[\"n\"][7][2]"
   ]
  },
  {
   "cell_type": "code",
   "execution_count": 141,
   "metadata": {},
   "outputs": [
    {
     "data": {
      "text/plain": [
       "{'poro': 0.3, 'perm': 150, 'lithology': 'Shale'}"
      ]
     },
     "execution_count": 141,
     "metadata": {},
     "output_type": "execute_result"
    }
   ],
   "source": [
    "rock_properties"
   ]
  },
  {
   "cell_type": "code",
   "execution_count": 143,
   "metadata": {},
   "outputs": [],
   "source": [
    "rock_properties[\"lithology\"] = \"Sandstone\""
   ]
  },
  {
   "cell_type": "code",
   "execution_count": 144,
   "metadata": {},
   "outputs": [
    {
     "data": {
      "text/plain": [
       "{'poro': 0.3, 'perm': 150, 'lithology': 'Sandstone'}"
      ]
     },
     "execution_count": 144,
     "metadata": {},
     "output_type": "execute_result"
    }
   ],
   "source": [
    "rock_properties"
   ]
  },
  {
   "cell_type": "code",
   "execution_count": 145,
   "metadata": {},
   "outputs": [],
   "source": [
    "rock_properties[\"Water Saturation\"] = 0.34"
   ]
  },
  {
   "cell_type": "code",
   "execution_count": 146,
   "metadata": {},
   "outputs": [
    {
     "data": {
      "text/plain": [
       "{'poro': 0.3, 'perm': 150, 'lithology': 'Sandstone', 'Water Saturation': 0.34}"
      ]
     },
     "execution_count": 146,
     "metadata": {},
     "output_type": "execute_result"
    }
   ],
   "source": [
    "rock_properties"
   ]
  },
  {
   "cell_type": "code",
   "execution_count": 147,
   "metadata": {},
   "outputs": [
    {
     "data": {
      "text/plain": [
       "dict_keys(['poro', 'perm', 'lithology', 'Water Saturation'])"
      ]
     },
     "execution_count": 147,
     "metadata": {},
     "output_type": "execute_result"
    }
   ],
   "source": [
    "rock_properties.keys()"
   ]
  },
  {
   "cell_type": "code",
   "execution_count": 148,
   "metadata": {},
   "outputs": [
    {
     "data": {
      "text/plain": [
       "dict_values([0.3, 150, 'Sandstone', 0.34])"
      ]
     },
     "execution_count": 148,
     "metadata": {},
     "output_type": "execute_result"
    }
   ],
   "source": [
    "rock_properties.values()"
   ]
  },
  {
   "cell_type": "code",
   "execution_count": 149,
   "metadata": {},
   "outputs": [
    {
     "data": {
      "text/plain": [
       "150"
      ]
     },
     "execution_count": 149,
     "metadata": {},
     "output_type": "execute_result"
    }
   ],
   "source": [
    "rock_properties.pop(\"perm\")"
   ]
  },
  {
   "cell_type": "code",
   "execution_count": 150,
   "metadata": {},
   "outputs": [
    {
     "data": {
      "text/plain": [
       "{'poro': 0.3, 'lithology': 'Sandstone', 'Water Saturation': 0.34}"
      ]
     },
     "execution_count": 150,
     "metadata": {},
     "output_type": "execute_result"
    }
   ],
   "source": [
    "rock_properties"
   ]
  },
  {
   "cell_type": "code",
   "execution_count": 151,
   "metadata": {},
   "outputs": [],
   "source": [
    "rock_properties = {\"wellname\":[\"wellA,wellB\",\"wellC\"],\"Porosity\":[0.2,0.3,0.4],\"Lithology\":[\"Shale\",\"SST\",\"LST\"]}"
   ]
  },
  {
   "cell_type": "code",
   "execution_count": 152,
   "metadata": {},
   "outputs": [
    {
     "data": {
      "text/plain": [
       "{'wellname': ['wellA,wellB', 'wellC'],\n",
       " 'Porosity': [0.2, 0.3, 0.4],\n",
       " 'Lithology': ['Shale', 'SST', 'LST']}"
      ]
     },
     "execution_count": 152,
     "metadata": {},
     "output_type": "execute_result"
    }
   ],
   "source": [
    "rock_properties"
   ]
  },
  {
   "cell_type": "code",
   "execution_count": 153,
   "metadata": {},
   "outputs": [],
   "source": [
    "rock_properties= {\n",
    "    \n",
    "    \"Well A\": {\"Porosity\":0.3,\"Permeability\":12,\"Lithology\":\"Shale\"},\n",
    "    \"Well B\": {\"Porosity\":0.13,\"Permeability\":1,\"Lithology\":\"Sandstone\"},\n",
    "    \"Well C\": {\"Porosity\":0.23,\"Permeability\":120,\"Lithology\":\"Limestone\"}\n",
    "    \n",
    "    \n",
    "}"
   ]
  },
  {
   "cell_type": "code",
   "execution_count": 154,
   "metadata": {},
   "outputs": [
    {
     "data": {
      "text/plain": [
       "{'Well A': {'Porosity': 0.3, 'Permeability': 12, 'Lithology': 'Shale'},\n",
       " 'Well B': {'Porosity': 0.13, 'Permeability': 1, 'Lithology': 'Sandstone'},\n",
       " 'Well C': {'Porosity': 0.23, 'Permeability': 120, 'Lithology': 'Limestone'}}"
      ]
     },
     "execution_count": 154,
     "metadata": {},
     "output_type": "execute_result"
    }
   ],
   "source": [
    "rock_properties"
   ]
  },
  {
   "cell_type": "code",
   "execution_count": 156,
   "metadata": {},
   "outputs": [
    {
     "data": {
      "text/plain": [
       "0.13"
      ]
     },
     "execution_count": 156,
     "metadata": {},
     "output_type": "execute_result"
    }
   ],
   "source": [
    "rock_properties[\"Well B\"][\"Porosity\"]"
   ]
  },
  {
   "cell_type": "markdown",
   "metadata": {},
   "source": [
    "## Summary of Data Structures:\n",
    "\n",
    "1. List: mutable, empty list used to populate later, [___]\n",
    "2. tuple: immutable, (___)\n",
    "3. Set: unordered, duplicacy eliminated, {__}\n",
    "4. Dictionary: Key:Value, mutable, {\"key\":\"Value\"}"
   ]
  },
  {
   "cell_type": "markdown",
   "metadata": {},
   "source": [
    "# For loop"
   ]
  },
  {
   "cell_type": "code",
   "execution_count": null,
   "metadata": {},
   "outputs": [],
   "source": []
  }
 ],
 "metadata": {
  "kernelspec": {
   "display_name": "Python 3",
   "language": "python",
   "name": "python3"
  },
  "language_info": {
   "codemirror_mode": {
    "name": "ipython",
    "version": 3
   },
   "file_extension": ".py",
   "mimetype": "text/x-python",
   "name": "python",
   "nbconvert_exporter": "python",
   "pygments_lexer": "ipython3",
   "version": "3.7.4"
  }
 },
 "nbformat": 4,
 "nbformat_minor": 2
}
