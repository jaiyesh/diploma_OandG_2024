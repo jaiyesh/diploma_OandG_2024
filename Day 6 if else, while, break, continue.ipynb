{
 "cells": [
  {
   "cell_type": "markdown",
   "metadata": {},
   "source": [
    "# If - else: To run a block of code only if a certain condition is True\n",
    "\n",
    "- Identation: block of code"
   ]
  },
  {
   "cell_type": "code",
   "execution_count": 4,
   "metadata": {},
   "outputs": [
    {
     "name": "stdout",
     "output_type": "stream",
     "text": [
      "The statement is False\n",
      "ELSE block executed\n",
      "This is outside if-else block\n"
     ]
    }
   ],
   "source": [
    "if 5<2:\n",
    "    print(\"The statement is True\")\n",
    "    print(\"IF block executed\")\n",
    "else:\n",
    "    print(\"The statement is False\")\n",
    "    print(\"ELSE block executed\")\n",
    "print(\"This is outside if-else block\")"
   ]
  },
  {
   "cell_type": "code",
   "execution_count": 5,
   "metadata": {},
   "outputs": [
    {
     "name": "stdout",
     "output_type": "stream",
     "text": [
      "It will always run\n"
     ]
    }
   ],
   "source": [
    "if True:\n",
    "    print(\"It will always run\")"
   ]
  },
  {
   "cell_type": "code",
   "execution_count": 6,
   "metadata": {},
   "outputs": [
    {
     "name": "stdout",
     "output_type": "stream",
     "text": [
      "Always else\n"
     ]
    }
   ],
   "source": [
    "if False:\n",
    "    print('No,nneed to try')\n",
    "else:\n",
    "    print('Always else')"
   ]
  },
  {
   "cell_type": "markdown",
   "metadata": {},
   "source": [
    "#### elif: if+else"
   ]
  },
  {
   "cell_type": "code",
   "execution_count": 9,
   "metadata": {},
   "outputs": [
    {
     "name": "stdout",
     "output_type": "stream",
     "text": [
      "Enter the initial Reservoir Pressure(psia): 1800\n",
      "Enter the bubble point pressure of Reservoir fluid(psia): 1900\n",
      "Reservoir Pressure(1800.0 psi) is lesser than bubble point pressure of crude(1900.0 psi)\n",
      "Gas has evolved in reservoir, TWO PHASES are present\n"
     ]
    }
   ],
   "source": [
    "Pr = float(input(\"Enter the initial Reservoir Pressure(psia): \"))\n",
    "Pb = float(input(\"Enter the bubble point pressure of Reservoir fluid(psia): \"))\n",
    "\n",
    "\n",
    "if Pr > Pb:\n",
    "    print(f\"Reservoir Pressure({Pr} psi) is greater than bubble point pressure of crude({Pb} psi)\")\n",
    "    print(\"Reservoir is UNDERSATURATED\")\n",
    "elif Pr==Pb:\n",
    "    print(f\"Reservoir Pressure({Pr} psi) is equal to bubble point pressure of crude({Pb} psi)\")\n",
    "    print(\"Reservoir is SATURATED\")\n",
    "\n",
    "else:\n",
    "    print(f\"Reservoir Pressure({Pr} psi) is lesser than bubble point pressure of crude({Pb} psi)\")\n",
    "    print(\"Gas has evolved in reservoir, TWO PHASES are present\")"
   ]
  },
  {
   "cell_type": "code",
   "execution_count": 10,
   "metadata": {},
   "outputs": [],
   "source": [
    "pressure = [2500,3500,4300,5500,6500,1200,1000,800]"
   ]
  },
  {
   "cell_type": "code",
   "execution_count": 11,
   "metadata": {},
   "outputs": [
    {
     "data": {
      "text/plain": [
       "[2500, 3500, 4300, 5500, 6500, 1200, 1000, 800]"
      ]
     },
     "execution_count": 11,
     "metadata": {},
     "output_type": "execute_result"
    }
   ],
   "source": [
    "pressure"
   ]
  },
  {
   "cell_type": "code",
   "execution_count": 12,
   "metadata": {},
   "outputs": [
    {
     "name": "stdout",
     "output_type": "stream",
     "text": [
      "Pressure 2500 is less than 4000, so low Pressure\n",
      "Pressure 3500 is less than 4000, so low Pressure\n",
      "Pressure 4300 is greater than  or equal to 4000, so High Pressure\n",
      "Pressure 5500 is greater than  or equal to 4000, so High Pressure\n",
      "Pressure 6500 is greater than  or equal to 4000, so High Pressure\n",
      "Pressure 1200 is less than 4000, so low Pressure\n",
      "Pressure 1000 is less than 4000, so low Pressure\n",
      "Pressure 800 is less than 4000, so low Pressure\n"
     ]
    }
   ],
   "source": [
    "## 2 lists: low pressure, high pressure\n",
    "## low preessure: pressure<4000\n",
    "### high pressure: pressure >=4000\n",
    "\n",
    "low_p = []\n",
    "high_p = []\n",
    "\n",
    "for p in pressure:\n",
    "    if p<4000:\n",
    "        print(f\"Pressure {p} is less than 4000, so low Pressure\")\n",
    "        low_p.append(p)\n",
    "    else:\n",
    "        print(f\"Pressure {p} is greater than  or equal to 4000, so High Pressure\")\n",
    "        high_p.append(p)\n"
   ]
  },
  {
   "cell_type": "code",
   "execution_count": 13,
   "metadata": {},
   "outputs": [
    {
     "data": {
      "text/plain": [
       "[2500, 3500, 1200, 1000, 800]"
      ]
     },
     "execution_count": 13,
     "metadata": {},
     "output_type": "execute_result"
    }
   ],
   "source": [
    "low_p"
   ]
  },
  {
   "cell_type": "code",
   "execution_count": 14,
   "metadata": {},
   "outputs": [
    {
     "data": {
      "text/plain": [
       "[4300, 5500, 6500]"
      ]
     },
     "execution_count": 14,
     "metadata": {},
     "output_type": "execute_result"
    }
   ],
   "source": [
    "high_p"
   ]
  },
  {
   "cell_type": "markdown",
   "metadata": {},
   "source": [
    "# while loop: to repeat a block of code again and again, until the condition satisfies"
   ]
  },
  {
   "cell_type": "code",
   "execution_count": 19,
   "metadata": {},
   "outputs": [
    {
     "name": "stdout",
     "output_type": "stream",
     "text": [
      "The condition is true\n",
      "Value of a(2) is less than 7 \n",
      "The condition is true\n",
      "Value of a(3) is less than 7 \n",
      "The condition is true\n",
      "Value of a(4) is less than 7 \n",
      "The condition is true\n",
      "Value of a(5) is less than 7 \n",
      "The condition is true\n",
      "Value of a(6) is less than 7 \n",
      "Python outside the while loop, so the value of a(7) is equal to or greater than 7\n"
     ]
    }
   ],
   "source": [
    "a = 2\n",
    "\n",
    "while a<7:\n",
    "    print(\"The condition is true\")\n",
    "    print(f\"Value of a({a}) is less than 7 \")\n",
    "    a+=1\n",
    "  \n",
    "print(f\"Python outside the while loop, so the value of a({a}) is equal to or greater than 7\")"
   ]
  },
  {
   "cell_type": "code",
   "execution_count": 31,
   "metadata": {},
   "outputs": [
    {
     "name": "stdout",
     "output_type": "stream",
     "text": [
      "Enter the Password: hghgh\n",
      "Wrong Password, access denied!\n",
      "Try again!!\n",
      "2 attempts left!!\n",
      "Enter the Password: hjhj\n",
      "Wrong Password, access denied!\n",
      "Try again!!\n",
      "1 attempts left!!\n",
      "Enter the Password: jhhjh\n",
      "Wrong Password, access denied!\n",
      "Try again!!\n",
      "0 attempts left!!\n",
      "ACCESS DENIED\n",
      "ACCESS DENIED, Request Cancelled\n"
     ]
    }
   ],
   "source": [
    "Password = input(\"Enter the Password: \")\n",
    "\n",
    "i = 0\n",
    "while (Password!=\"Petroleum\") and (i<3):\n",
    "    print(\"Wrong Password, access denied!\")\n",
    "    print(\"Try again!!\")\n",
    "    print(f\"{3-i-1} attempts left!!\")\n",
    "    i+=1\n",
    "    if i ==3:\n",
    "        print(\"ACCESS DENIED\")\n",
    "        break\n",
    "    Password = input(\"Enter the Password: \")\n",
    "    \n",
    "\n",
    "else:\n",
    "    print(\"ACCESS GRANTED!!\")\n",
    "    \n",
    "\n",
    "print(\"ACCESS DENIED, Request Cancelled\")"
   ]
  },
  {
   "cell_type": "markdown",
   "metadata": {},
   "source": [
    "### break statement: for breaking the loop prematurely\n",
    "\n",
    "we can break an infinite loop, if some condition hold true"
   ]
  },
  {
   "cell_type": "code",
   "execution_count": 32,
   "metadata": {},
   "outputs": [
    {
     "name": "stdout",
     "output_type": "stream",
     "text": [
      "1\n",
      "2\n",
      "3\n"
     ]
    }
   ],
   "source": [
    "x = 0 \n",
    "\n",
    "while x<7:\n",
    "    x+=1\n",
    "    if x==4:\n",
    "        break\n",
    "    print(x)"
   ]
  },
  {
   "cell_type": "code",
   "execution_count": 33,
   "metadata": {},
   "outputs": [
    {
     "name": "stdout",
     "output_type": "stream",
     "text": [
      "Formation Pressure is 2500 psi\n",
      "Formation Pressure is 2600 psi\n",
      "Formation Pressure is 2700 psi\n",
      "Formation Pressure is 2800 psi\n",
      "Formation Pressure is 2900 psi\n",
      "Formation Pressure is 3000 psi\n",
      "Formation Pressure is 3100 psi\n",
      "Formation Pressure is 3200 psi\n",
      "Formation Pressure is 3300 psi\n",
      "Formation Pressure is 3400 psi\n",
      "Formation Pressure is 3500 psi\n",
      "Formation Pressure is 3600 psi\n",
      "Formation Pressure is 3700 psi\n",
      "Formation Pressure is 3800 psi\n",
      "Formation Pressure is 3900 psi\n",
      "Formation Pressure is 4000 psi\n",
      "Formation Pressure is 4100 psi\n",
      "Formation Pressure is 4200 psi\n",
      "Formation Pressure is 4300 psi\n",
      "Formation Pressure is 4400 psi\n",
      "Formation Pressure is 4500 psi\n",
      "Formation Pressure is 4600 psi\n",
      "Formation Pressure is 4700 psi\n",
      "Formation Pressure is 4800 psi\n",
      "Formation Pressure is 4900 psi\n",
      "Pressure reached the maximum value, so stopping the preocess\n",
      "Process finished\n"
     ]
    }
   ],
   "source": [
    "pressure = 2500\n",
    "\n",
    "while True:\n",
    "    print(f\"Formation Pressure is {pressure} psi\")\n",
    "    pressure+=100\n",
    "    if pressure ==5000:\n",
    "        print(\"Pressure reached the maximum value, so stopping the preocess\")\n",
    "        break\n",
    "        \n",
    "\n",
    "print(\"Process finished\")"
   ]
  },
  {
   "cell_type": "code",
   "execution_count": 34,
   "metadata": {},
   "outputs": [
    {
     "data": {
      "text/plain": [
       "5000"
      ]
     },
     "execution_count": 34,
     "metadata": {},
     "output_type": "execute_result"
    }
   ],
   "source": [
    "pressure"
   ]
  },
  {
   "cell_type": "code",
   "execution_count": 35,
   "metadata": {},
   "outputs": [],
   "source": [
    "pressures = [2300,3200,232,5000,5200]\n"
   ]
  },
  {
   "cell_type": "code",
   "execution_count": 39,
   "metadata": {},
   "outputs": [],
   "source": [
    "pressures.sort()"
   ]
  },
  {
   "cell_type": "code",
   "execution_count": 41,
   "metadata": {},
   "outputs": [
    {
     "data": {
      "text/plain": [
       "[232, 2300, 3200, 5000, 5200]"
      ]
     },
     "execution_count": 41,
     "metadata": {},
     "output_type": "execute_result"
    }
   ],
   "source": [
    "pressures"
   ]
  },
  {
   "cell_type": "code",
   "execution_count": 43,
   "metadata": {},
   "outputs": [
    {
     "name": "stdout",
     "output_type": "stream",
     "text": [
      "232\n",
      "2300\n",
      "Max pressure reached, braking for looop\n"
     ]
    }
   ],
   "source": [
    "for i in pressures:\n",
    "    if i >=3000:\n",
    "        print(\"Max pressure reached, braking for looop\")\n",
    "        break\n",
    "    print(i)\n",
    "    "
   ]
  },
  {
   "cell_type": "markdown",
   "metadata": {},
   "source": [
    "## continue : to jump back to top of loop, rather than stopping it completely\n",
    "\n",
    "- stop the current iteration and continue with the next iteration\n",
    "\n",
    "\n",
    "\n",
    "### Break: break the loop, no execution of loop at all\n",
    "\n",
    "### Continue : stop the cureent iteration, but next iteration will go on, anything written below continue is not executed"
   ]
  },
  {
   "cell_type": "code",
   "execution_count": 46,
   "metadata": {},
   "outputs": [
    {
     "name": "stdout",
     "output_type": "stream",
     "text": [
      "Formation Pressure is 3600 psi\n",
      "Formation Pressure is 3700 psi\n",
      "Formation Pressure is 3800 psi\n",
      "Formation Pressure is 3900 psi\n",
      "SKIPPING 4000 psi\n",
      "Formation Pressure is 4100 psi\n",
      "Formation Pressure is 4200 psi\n",
      "Formation Pressure is 4300 psi\n",
      "Formation Pressure is 4400 psi\n",
      "Formation Pressure is 4500 psi\n",
      "Formation Pressure is 4600 psi\n",
      "Formation Pressure is 4700 psi\n",
      "Formation Pressure is 4800 psi\n",
      "Formation Pressure is 4900 psi\n",
      "Formation Pressure is 5000 psi\n",
      "Pressure reached the maximum value, so stopping the preocess\n",
      "Process finished\n"
     ]
    }
   ],
   "source": [
    "pressure = 3500\n",
    "\n",
    "while True:\n",
    "    pressure+=100\n",
    "    if pressure ==4000:\n",
    "        print(\"SKIPPING 4000 psi\")\n",
    "        continue\n",
    "    print(f\"Formation Pressure is {pressure} psi\")\n",
    "    if pressure ==5000:\n",
    "        print(\"Pressure reached the maximum value, so stopping the preocess\")\n",
    "        break\n",
    "        \n",
    "        \n",
    "\n",
    "print(\"Process finished\")"
   ]
  },
  {
   "cell_type": "code",
   "execution_count": 51,
   "metadata": {},
   "outputs": [
    {
     "name": "stdout",
     "output_type": "stream",
     "text": [
      "0\n",
      "1\n",
      "2\n",
      "3\n",
      "skipping 4\n",
      "5\n",
      "6\n"
     ]
    }
   ],
   "source": [
    "for i in range(7):\n",
    "    if i==4:\n",
    "        print(\"skipping 4\")\n",
    "        continue  \n",
    "    print(i)"
   ]
  },
  {
   "cell_type": "code",
   "execution_count": 57,
   "metadata": {},
   "outputs": [
    {
     "name": "stdout",
     "output_type": "stream",
     "text": [
      "*  \r\n",
      "*  *  \r\n",
      "*  *  *  \r\n",
      "*  *  *  *  \r\n",
      "*  *  *  *  *  \r\n",
      "*  *  *  *  *  *  \r\n",
      "*  *  *  *  *  *  *  \r\n"
     ]
    }
   ],
   "source": [
    "for i in range(0,7):  #Range will generate from 0 to 6\n",
    "    for j in range(0,i+1):\n",
    "        print(\"*\", end = \"  \")\n",
    "        \n",
    "    print('\\r') #Break line after every for j loop "
   ]
  },
  {
   "cell_type": "code",
   "execution_count": 55,
   "metadata": {},
   "outputs": [
    {
     "name": "stdout",
     "output_type": "stream",
     "text": [
      "hello\n",
      "\r\n",
      "New\n"
     ]
    }
   ],
   "source": [
    "print('hello')\n",
    "print('\\r') #break statement\n",
    "print('New')"
   ]
  },
  {
   "cell_type": "code",
   "execution_count": null,
   "metadata": {},
   "outputs": [],
   "source": []
  }
 ],
 "metadata": {
  "kernelspec": {
   "display_name": "Python 3",
   "language": "python",
   "name": "python3"
  },
  "language_info": {
   "codemirror_mode": {
    "name": "ipython",
    "version": 3
   },
   "file_extension": ".py",
   "mimetype": "text/x-python",
   "name": "python",
   "nbconvert_exporter": "python",
   "pygments_lexer": "ipython3",
   "version": "3.7.4"
  }
 },
 "nbformat": 4,
 "nbformat_minor": 2
}
