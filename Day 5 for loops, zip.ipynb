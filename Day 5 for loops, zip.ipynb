{
 "cells": [
  {
   "cell_type": "markdown",
   "metadata": {},
   "source": [
    "# for loop\n",
    "\n",
    "- utilise the power of computation by running iterations on iterables(ordered-collections): list,tuples, string\n",
    "\n",
    "- for loop will go in my list and it will take the elememts at different different indexes and perform the action that we want it to perform\n",
    "\n"
   ]
  },
  {
   "cell_type": "code",
   "execution_count": 1,
   "metadata": {},
   "outputs": [],
   "source": [
    "poro = (0.4,0.3,0.6,0.21,0.11,0.01)"
   ]
  },
  {
   "cell_type": "code",
   "execution_count": 3,
   "metadata": {},
   "outputs": [
    {
     "name": "stdout",
     "output_type": "stream",
     "text": [
      "0.4\n",
      "0.3\n",
      "0.6\n"
     ]
    }
   ],
   "source": [
    "print(poro[0])\n",
    "print(poro[1])\n",
    "print(poro[2])"
   ]
  },
  {
   "cell_type": "code",
   "execution_count": 4,
   "metadata": {},
   "outputs": [
    {
     "name": "stdout",
     "output_type": "stream",
     "text": [
      "0.4\n",
      "0.3\n",
      "0.6\n",
      "0.21\n",
      "0.11\n",
      "0.01\n"
     ]
    }
   ],
   "source": [
    "for i in poro:\n",
    "    \n",
    "    print(i)"
   ]
  },
  {
   "cell_type": "code",
   "execution_count": 5,
   "metadata": {},
   "outputs": [],
   "source": [
    "perm = [23,32,12,43,65,34,23]"
   ]
  },
  {
   "cell_type": "code",
   "execution_count": 6,
   "metadata": {},
   "outputs": [
    {
     "name": "stdout",
     "output_type": "stream",
     "text": [
      "23\n",
      "32\n",
      "12\n",
      "43\n",
      "65\n",
      "34\n",
      "23\n"
     ]
    }
   ],
   "source": [
    "for i in perm:\n",
    "    print(i)"
   ]
  },
  {
   "cell_type": "code",
   "execution_count": 7,
   "metadata": {},
   "outputs": [
    {
     "data": {
      "text/plain": [
       "43"
      ]
     },
     "execution_count": 7,
     "metadata": {},
     "output_type": "execute_result"
    }
   ],
   "source": [
    "perm[3]"
   ]
  },
  {
   "cell_type": "code",
   "execution_count": 10,
   "metadata": {},
   "outputs": [
    {
     "data": {
      "text/plain": [
       "[23, 32, 12]"
      ]
     },
     "execution_count": 10,
     "metadata": {},
     "output_type": "execute_result"
    }
   ],
   "source": [
    "perm[:3]"
   ]
  },
  {
   "cell_type": "code",
   "execution_count": 8,
   "metadata": {},
   "outputs": [
    {
     "name": "stdout",
     "output_type": "stream",
     "text": [
      "23\n",
      "32\n",
      "12\n"
     ]
    }
   ],
   "source": [
    "for i in perm[:3]:\n",
    "    print(i)"
   ]
  },
  {
   "cell_type": "code",
   "execution_count": 9,
   "metadata": {},
   "outputs": [
    {
     "name": "stdout",
     "output_type": "stream",
     "text": [
      "23\n",
      "32\n",
      "12\n"
     ]
    }
   ],
   "source": [
    "for i in range(len(perm)):\n",
    "    if i ==3:\n",
    "        break\n",
    "    else:\n",
    "        print(perm[i])"
   ]
  },
  {
   "cell_type": "code",
   "execution_count": 12,
   "metadata": {},
   "outputs": [
    {
     "data": {
      "text/plain": [
       "[0, 1, 2, 3, 4]"
      ]
     },
     "execution_count": 12,
     "metadata": {},
     "output_type": "execute_result"
    }
   ],
   "source": [
    "list(range(5))"
   ]
  },
  {
   "cell_type": "code",
   "execution_count": 13,
   "metadata": {},
   "outputs": [
    {
     "data": {
      "text/plain": [
       "[23, 32, 12, 43, 65, 34, 23]"
      ]
     },
     "execution_count": 13,
     "metadata": {},
     "output_type": "execute_result"
    }
   ],
   "source": [
    "perm"
   ]
  },
  {
   "cell_type": "code",
   "execution_count": 14,
   "metadata": {},
   "outputs": [
    {
     "data": {
      "text/plain": [
       "7"
      ]
     },
     "execution_count": 14,
     "metadata": {},
     "output_type": "execute_result"
    }
   ],
   "source": [
    "len(perm)"
   ]
  },
  {
   "cell_type": "code",
   "execution_count": 15,
   "metadata": {},
   "outputs": [
    {
     "data": {
      "text/plain": [
       "range(0, 7)"
      ]
     },
     "execution_count": 15,
     "metadata": {},
     "output_type": "execute_result"
    }
   ],
   "source": [
    "range(len(perm))"
   ]
  },
  {
   "cell_type": "code",
   "execution_count": 17,
   "metadata": {},
   "outputs": [
    {
     "data": {
      "text/plain": [
       "[23, 32, 12, 43, 65, 34, 23]"
      ]
     },
     "execution_count": 17,
     "metadata": {},
     "output_type": "execute_result"
    }
   ],
   "source": [
    "perm"
   ]
  },
  {
   "cell_type": "code",
   "execution_count": 16,
   "metadata": {},
   "outputs": [
    {
     "name": "stdout",
     "output_type": "stream",
     "text": [
      "23\n",
      "32\n",
      "12\n",
      "43\n",
      "65\n",
      "34\n",
      "23\n"
     ]
    }
   ],
   "source": [
    "for i in range(len(perm)):\n",
    "    print(perm[i])"
   ]
  },
  {
   "cell_type": "code",
   "execution_count": 18,
   "metadata": {},
   "outputs": [],
   "source": [
    "specific_gravity = [0.2,0.3,0.12,0.45,0.65,0.8,0.923]"
   ]
  },
  {
   "cell_type": "code",
   "execution_count": 21,
   "metadata": {},
   "outputs": [
    {
     "name": "stdout",
     "output_type": "stream",
     "text": [
      "API Gravity of crude oil corresponding to specific gravity of 0.2 is 576.0!!\n",
      "API Gravity of crude oil corresponding to specific gravity of 0.3 is 340.1666666666667!!\n",
      "API Gravity of crude oil corresponding to specific gravity of 0.12 is 1047.6666666666667!!\n",
      "API Gravity of crude oil corresponding to specific gravity of 0.45 is 182.94444444444446!!\n",
      "API Gravity of crude oil corresponding to specific gravity of 0.65 is 86.19230769230768!!\n",
      "API Gravity of crude oil corresponding to specific gravity of 0.8 is 45.375!!\n",
      "API Gravity of crude oil corresponding to specific gravity of 0.923 is 21.804442036836406!!\n",
      "List for API gravities is: [576.0, 340.1666666666667, 1047.6666666666667, 182.94444444444446, 86.19230769230768, 45.375, 21.804442036836406]\n"
     ]
    }
   ],
   "source": [
    "API = []\n",
    "\n",
    "for i in specific_gravity:\n",
    "    api  = (141.5/i) - 131.5\n",
    "    API.append(api)\n",
    "    print(f\"API Gravity of crude oil corresponding to specific gravity of {i} is {api}!!\")\n",
    "\n",
    "print(f\"List for API gravities is: {API}\")"
   ]
  },
  {
   "cell_type": "code",
   "execution_count": 22,
   "metadata": {},
   "outputs": [
    {
     "data": {
      "text/plain": [
       "7"
      ]
     },
     "execution_count": 22,
     "metadata": {},
     "output_type": "execute_result"
    }
   ],
   "source": [
    "len(specific_gravity)"
   ]
  },
  {
   "cell_type": "code",
   "execution_count": 23,
   "metadata": {},
   "outputs": [
    {
     "data": {
      "text/plain": [
       "7"
      ]
     },
     "execution_count": 23,
     "metadata": {},
     "output_type": "execute_result"
    }
   ],
   "source": [
    "len(perm)"
   ]
  },
  {
   "cell_type": "code",
   "execution_count": 24,
   "metadata": {},
   "outputs": [
    {
     "data": {
      "text/plain": [
       "[23, 32, 12, 43, 65, 34, 23]"
      ]
     },
     "execution_count": 24,
     "metadata": {},
     "output_type": "execute_result"
    }
   ],
   "source": [
    "perm"
   ]
  },
  {
   "cell_type": "code",
   "execution_count": 25,
   "metadata": {},
   "outputs": [
    {
     "data": {
      "text/plain": [
       "[0.2, 0.3, 0.12, 0.45, 0.65, 0.8, 0.923]"
      ]
     },
     "execution_count": 25,
     "metadata": {},
     "output_type": "execute_result"
    }
   ],
   "source": [
    "specific_gravity"
   ]
  },
  {
   "cell_type": "code",
   "execution_count": 26,
   "metadata": {},
   "outputs": [],
   "source": [
    "field_names = [\"Ankleswar\", \"Cambay\", \"Kalol\", \"Kosamba\", \"Mehsana\",\"Nowgam\", \"Dholka\"]"
   ]
  },
  {
   "cell_type": "code",
   "execution_count": 27,
   "metadata": {},
   "outputs": [
    {
     "data": {
      "text/plain": [
       "['Ankleswar', 'Cambay', 'Kalol', 'Kosamba', 'Mehsana', 'Nowgam', 'Dholka']"
      ]
     },
     "execution_count": 27,
     "metadata": {},
     "output_type": "execute_result"
    }
   ],
   "source": [
    "field_names"
   ]
  },
  {
   "cell_type": "code",
   "execution_count": 28,
   "metadata": {},
   "outputs": [
    {
     "data": {
      "text/plain": [
       "7"
      ]
     },
     "execution_count": 28,
     "metadata": {},
     "output_type": "execute_result"
    }
   ],
   "source": [
    "len(field_names)"
   ]
  },
  {
   "cell_type": "code",
   "execution_count": 29,
   "metadata": {},
   "outputs": [],
   "source": [
    "# The permeability of Ankleshwar field is 23 md, and specific gravity of crude present there is 0.2\n"
   ]
  },
  {
   "cell_type": "markdown",
   "metadata": {},
   "source": [
    "### Zip"
   ]
  },
  {
   "cell_type": "code",
   "execution_count": 32,
   "metadata": {},
   "outputs": [
    {
     "data": {
      "text/plain": [
       "[('Ankleswar', 23, 0.2),\n",
       " ('Cambay', 32, 0.3),\n",
       " ('Kalol', 12, 0.12),\n",
       " ('Kosamba', 43, 0.45),\n",
       " ('Mehsana', 65, 0.65),\n",
       " ('Nowgam', 34, 0.8),\n",
       " ('Dholka', 23, 0.923)]"
      ]
     },
     "execution_count": 32,
     "metadata": {},
     "output_type": "execute_result"
    }
   ],
   "source": [
    "list(zip(field_names,perm,specific_gravity))"
   ]
  },
  {
   "cell_type": "code",
   "execution_count": 33,
   "metadata": {},
   "outputs": [
    {
     "name": "stdout",
     "output_type": "stream",
     "text": [
      "The permeability of Ankleswar field is 23 md, and specific gravity of crude present there is 0.2\n",
      "The permeability of Cambay field is 32 md, and specific gravity of crude present there is 0.3\n",
      "The permeability of Kalol field is 12 md, and specific gravity of crude present there is 0.12\n",
      "The permeability of Kosamba field is 43 md, and specific gravity of crude present there is 0.45\n",
      "The permeability of Mehsana field is 65 md, and specific gravity of crude present there is 0.65\n",
      "The permeability of Nowgam field is 34 md, and specific gravity of crude present there is 0.8\n",
      "The permeability of Dholka field is 23 md, and specific gravity of crude present there is 0.923\n"
     ]
    }
   ],
   "source": [
    "for i,j,k in zip(field_names,perm,specific_gravity):\n",
    "    print(f\"The permeability of {i} field is {j} md, and specific gravity of crude present there is {k}\")\n",
    "    "
   ]
  },
  {
   "cell_type": "code",
   "execution_count": 35,
   "metadata": {},
   "outputs": [
    {
     "data": {
      "text/plain": [
       "[23, 32, 12, 43, 65, 34, 23]"
      ]
     },
     "execution_count": 35,
     "metadata": {},
     "output_type": "execute_result"
    }
   ],
   "source": [
    "perm "
   ]
  },
  {
   "cell_type": "code",
   "execution_count": 36,
   "metadata": {},
   "outputs": [
    {
     "data": {
      "text/plain": [
       "(0.4, 0.3, 0.6, 0.21, 0.11, 0.01)"
      ]
     },
     "execution_count": 36,
     "metadata": {},
     "output_type": "execute_result"
    }
   ],
   "source": [
    "poro"
   ]
  },
  {
   "cell_type": "code",
   "execution_count": 37,
   "metadata": {},
   "outputs": [
    {
     "data": {
      "text/plain": [
       "6"
      ]
     },
     "execution_count": 37,
     "metadata": {},
     "output_type": "execute_result"
    }
   ],
   "source": [
    "len(poro)"
   ]
  },
  {
   "cell_type": "code",
   "execution_count": 38,
   "metadata": {},
   "outputs": [
    {
     "data": {
      "text/plain": [
       "7"
      ]
     },
     "execution_count": 38,
     "metadata": {},
     "output_type": "execute_result"
    }
   ],
   "source": [
    "len(perm)"
   ]
  },
  {
   "cell_type": "code",
   "execution_count": 39,
   "metadata": {},
   "outputs": [
    {
     "data": {
      "text/plain": [
       "[(0.4, 23), (0.3, 32), (0.6, 12), (0.21, 43), (0.11, 65), (0.01, 34)]"
      ]
     },
     "execution_count": 39,
     "metadata": {},
     "output_type": "execute_result"
    }
   ],
   "source": [
    "list(zip(poro,perm))"
   ]
  },
  {
   "cell_type": "code",
   "execution_count": 44,
   "metadata": {},
   "outputs": [],
   "source": [
    "a = [\"number1\",\"number2\",\"number3\"]\n",
    "b = [\"dog\",\"cat\",\"bird\",\"elephant\"]"
   ]
  },
  {
   "cell_type": "code",
   "execution_count": 45,
   "metadata": {},
   "outputs": [
    {
     "data": {
      "text/plain": [
       "[('number1', 'dog'), ('number2', 'cat'), ('number3', 'bird')]"
      ]
     },
     "execution_count": 45,
     "metadata": {},
     "output_type": "execute_result"
    }
   ],
   "source": [
    "list(zip(a,b))"
   ]
  },
  {
   "cell_type": "code",
   "execution_count": 46,
   "metadata": {},
   "outputs": [
    {
     "name": "stdout",
     "output_type": "stream",
     "text": [
      "Animal corresponding to number1 is dog\n",
      "Animal corresponding to number2 is cat\n",
      "Animal corresponding to number3 is bird\n"
     ]
    }
   ],
   "source": [
    "for i,j in zip(a,b):\n",
    "    print(f\"Animal corresponding to {i} is {j}\")\n",
    "    "
   ]
  },
  {
   "cell_type": "code",
   "execution_count": 47,
   "metadata": {},
   "outputs": [
    {
     "data": {
      "text/plain": [
       "['Ankleswar', 'Cambay', 'Kalol', 'Kosamba', 'Mehsana', 'Nowgam', 'Dholka']"
      ]
     },
     "execution_count": 47,
     "metadata": {},
     "output_type": "execute_result"
    }
   ],
   "source": [
    "field_names"
   ]
  },
  {
   "cell_type": "code",
   "execution_count": 48,
   "metadata": {},
   "outputs": [
    {
     "data": {
      "text/plain": [
       "[23, 32, 12, 43, 65, 34, 23]"
      ]
     },
     "execution_count": 48,
     "metadata": {},
     "output_type": "execute_result"
    }
   ],
   "source": [
    "perm"
   ]
  },
  {
   "cell_type": "code",
   "execution_count": 49,
   "metadata": {},
   "outputs": [
    {
     "data": {
      "text/plain": [
       "[0.2, 0.3, 0.12, 0.45, 0.65, 0.8, 0.923]"
      ]
     },
     "execution_count": 49,
     "metadata": {},
     "output_type": "execute_result"
    }
   ],
   "source": [
    "specific_gravity"
   ]
  },
  {
   "cell_type": "code",
   "execution_count": 50,
   "metadata": {},
   "outputs": [
    {
     "name": "stdout",
     "output_type": "stream",
     "text": [
      "The permeability of Ankleswar field is 23 md, and specific gravity of crude present there is 0.2\n",
      "The permeability of Cambay field is 32 md, and specific gravity of crude present there is 0.3\n",
      "The permeability of Kalol field is 12 md, and specific gravity of crude present there is 0.12\n",
      "The permeability of Kosamba field is 43 md, and specific gravity of crude present there is 0.45\n",
      "The permeability of Mehsana field is 65 md, and specific gravity of crude present there is 0.65\n",
      "The permeability of Nowgam field is 34 md, and specific gravity of crude present there is 0.8\n",
      "The permeability of Dholka field is 23 md, and specific gravity of crude present there is 0.923\n"
     ]
    }
   ],
   "source": [
    "for i,j,k in zip(field_names,perm,specific_gravity):\n",
    "    print(f\"The permeability of {i} field is {j} md, and specific gravity of crude present there is {k}\")\n",
    "    "
   ]
  },
  {
   "cell_type": "code",
   "execution_count": 54,
   "metadata": {},
   "outputs": [],
   "source": [
    "field_properties={\n",
    "    \n",
    "    \"Ankleshwar\":{\"Permeability\":23,\"Specific Gravity\":0.2}\n",
    "    \n",
    "}"
   ]
  },
  {
   "cell_type": "code",
   "execution_count": 55,
   "metadata": {},
   "outputs": [
    {
     "data": {
      "text/plain": [
       "{'Ankleshwar': {'Permeability': 23, 'Specific Gravity': 0.2}}"
      ]
     },
     "execution_count": 55,
     "metadata": {},
     "output_type": "execute_result"
    }
   ],
   "source": [
    "field_properties"
   ]
  },
  {
   "cell_type": "code",
   "execution_count": 56,
   "metadata": {},
   "outputs": [],
   "source": [
    "field_properties = {}\n",
    "for i,j,k in zip(field_names,perm,specific_gravity):\n",
    "    field_properties[i] = {\"Permeability\":j,\"Specific Gravity\":k}\n"
   ]
  },
  {
   "cell_type": "code",
   "execution_count": 57,
   "metadata": {},
   "outputs": [
    {
     "data": {
      "text/plain": [
       "{'Ankleswar': {'Permeability': 23, 'Specific Gravity': 0.2},\n",
       " 'Cambay': {'Permeability': 32, 'Specific Gravity': 0.3},\n",
       " 'Kalol': {'Permeability': 12, 'Specific Gravity': 0.12},\n",
       " 'Kosamba': {'Permeability': 43, 'Specific Gravity': 0.45},\n",
       " 'Mehsana': {'Permeability': 65, 'Specific Gravity': 0.65},\n",
       " 'Nowgam': {'Permeability': 34, 'Specific Gravity': 0.8},\n",
       " 'Dholka': {'Permeability': 23, 'Specific Gravity': 0.923}}"
      ]
     },
     "execution_count": 57,
     "metadata": {},
     "output_type": "execute_result"
    }
   ],
   "source": [
    "field_properties"
   ]
  },
  {
   "cell_type": "code",
   "execution_count": 58,
   "metadata": {},
   "outputs": [
    {
     "data": {
      "text/plain": [
       "dict"
      ]
     },
     "execution_count": 58,
     "metadata": {},
     "output_type": "execute_result"
    }
   ],
   "source": [
    "type(field_properties)"
   ]
  },
  {
   "cell_type": "code",
   "execution_count": 60,
   "metadata": {},
   "outputs": [
    {
     "data": {
      "text/plain": [
       "{'Permeability': 65, 'Specific Gravity': 0.65}"
      ]
     },
     "execution_count": 60,
     "metadata": {},
     "output_type": "execute_result"
    }
   ],
   "source": [
    "field_properties[\"Mehsana\"]"
   ]
  },
  {
   "cell_type": "code",
   "execution_count": 62,
   "metadata": {},
   "outputs": [
    {
     "data": {
      "text/plain": [
       "0.65"
      ]
     },
     "execution_count": 62,
     "metadata": {},
     "output_type": "execute_result"
    }
   ],
   "source": [
    "field_properties[\"Mehsana\"][\"Specific Gravity\"]"
   ]
  },
  {
   "cell_type": "code",
   "execution_count": 63,
   "metadata": {},
   "outputs": [
    {
     "data": {
      "text/plain": [
       "(0.4, 0.3, 0.6, 0.21, 0.11, 0.01)"
      ]
     },
     "execution_count": 63,
     "metadata": {},
     "output_type": "execute_result"
    }
   ],
   "source": [
    "poro"
   ]
  },
  {
   "cell_type": "code",
   "execution_count": 64,
   "metadata": {},
   "outputs": [
    {
     "name": "stdout",
     "output_type": "stream",
     "text": [
      "0.4\n",
      "0.3\n",
      "0.6\n",
      "0.21\n",
      "0.11\n",
      "0.01\n"
     ]
    }
   ],
   "source": [
    "for i in poro:\n",
    "    print(i)"
   ]
  },
  {
   "cell_type": "code",
   "execution_count": 65,
   "metadata": {},
   "outputs": [
    {
     "data": {
      "text/plain": [
       "0.01"
      ]
     },
     "execution_count": 65,
     "metadata": {},
     "output_type": "execute_result"
    }
   ],
   "source": [
    "i"
   ]
  },
  {
   "cell_type": "code",
   "execution_count": 66,
   "metadata": {},
   "outputs": [
    {
     "data": {
      "text/plain": [
       "{'Ankleswar': {'Permeability': 23, 'Specific Gravity': 0.2},\n",
       " 'Cambay': {'Permeability': 32, 'Specific Gravity': 0.3},\n",
       " 'Kalol': {'Permeability': 12, 'Specific Gravity': 0.12},\n",
       " 'Kosamba': {'Permeability': 43, 'Specific Gravity': 0.45},\n",
       " 'Mehsana': {'Permeability': 65, 'Specific Gravity': 0.65},\n",
       " 'Nowgam': {'Permeability': 34, 'Specific Gravity': 0.8},\n",
       " 'Dholka': {'Permeability': 23, 'Specific Gravity': 0.923}}"
      ]
     },
     "execution_count": 66,
     "metadata": {},
     "output_type": "execute_result"
    }
   ],
   "source": [
    "field_properties"
   ]
  },
  {
   "cell_type": "code",
   "execution_count": 69,
   "metadata": {},
   "outputs": [
    {
     "ename": "KeyError",
     "evalue": "3",
     "output_type": "error",
     "traceback": [
      "\u001b[1;31m---------------------------------------------------------------------------\u001b[0m",
      "\u001b[1;31mKeyError\u001b[0m                                  Traceback (most recent call last)",
      "\u001b[1;32m<ipython-input-69-c03381a99f9e>\u001b[0m in \u001b[0;36m<module>\u001b[1;34m\u001b[0m\n\u001b[1;32m----> 1\u001b[1;33m \u001b[0mfield_properties\u001b[0m\u001b[1;33m[\u001b[0m\u001b[1;36m3\u001b[0m\u001b[1;33m]\u001b[0m\u001b[1;33m\u001b[0m\u001b[1;33m\u001b[0m\u001b[0m\n\u001b[0m",
      "\u001b[1;31mKeyError\u001b[0m: 3"
     ]
    }
   ],
   "source": [
    "field_properties[3]"
   ]
  },
  {
   "cell_type": "code",
   "execution_count": 72,
   "metadata": {},
   "outputs": [],
   "source": [
    "a = {3: {'Permeability': 23, 'Specific Gravity': 0.2},\n",
    " 1: {'Permeability': 32, 'Specific Gravity': 0.3},\n",
    " 5: {'Permeability': 12, 'Specific Gravity': 0.12},\n",
    " 'Kosamba': {'Permeability': 43, 'Specific Gravity': 0.45},\n",
    " 'Mehsana': {'Permeability': 65, 'Specific Gravity': 0.65},\n",
    " 'Nowgam': {'Permeability': 34, 'Specific Gravity': 0.8},\n",
    " 'Dholka': {'Permeability': 23, 'Specific Gravity': 0.923}}"
   ]
  },
  {
   "cell_type": "code",
   "execution_count": 74,
   "metadata": {},
   "outputs": [
    {
     "data": {
      "text/plain": [
       "{'Permeability': 23, 'Specific Gravity': 0.2}"
      ]
     },
     "execution_count": 74,
     "metadata": {},
     "output_type": "execute_result"
    }
   ],
   "source": [
    "a[3]"
   ]
  },
  {
   "cell_type": "markdown",
   "metadata": {},
   "source": [
    "## if - else"
   ]
  },
  {
   "cell_type": "code",
   "execution_count": null,
   "metadata": {},
   "outputs": [],
   "source": []
  }
 ],
 "metadata": {
  "kernelspec": {
   "display_name": "Python 3",
   "language": "python",
   "name": "python3"
  },
  "language_info": {
   "codemirror_mode": {
    "name": "ipython",
    "version": 3
   },
   "file_extension": ".py",
   "mimetype": "text/x-python",
   "name": "python",
   "nbconvert_exporter": "python",
   "pygments_lexer": "ipython3",
   "version": "3.7.4"
  }
 },
 "nbformat": 4,
 "nbformat_minor": 2
}
